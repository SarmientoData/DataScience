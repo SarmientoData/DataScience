{
  "nbformat": 4,
  "nbformat_minor": 0,
  "metadata": {
    "colab": {
      "name": "DS_Bitácora_25_SVM.ipynb",
      "provenance": []
    },
    "kernelspec": {
      "display_name": "Python 3",
      "language": "python",
      "name": "python3"
    },
    "language_info": {
      "codemirror_mode": {
        "name": "ipython",
        "version": 3
      },
      "file_extension": ".py",
      "mimetype": "text/x-python",
      "name": "python",
      "nbconvert_exporter": "python",
      "pygments_lexer": "ipython3",
      "version": "3.8.2"
    }
  },
  "cells": [
    {
      "cell_type": "markdown",
      "metadata": {
        "id": "z5MdlIsEHjJf"
      },
      "source": [
        "# Support Vector Machines\n",
        "\n",
        "## 1. Social Network Ads \n",
        "\n",
        "En primer lugar vamos a trabajar con el dataset de Social Networks Ads, un conjunto de datos que permiten determinar si un usuario compró o no un producto en particular. Tanto el dataset como su descripción los pueden encontrar en [Kaggle](https://www.kaggle.com/rakeshrau/social-network-ads).\n",
        "\n",
        "### Columnas del dataset:\n",
        "* User ID: identificación de usuario.\n",
        "* Gender: género.\n",
        "* Age: edad.\n",
        "* EstimatedSalary: salario estimado.\n",
        "* Purchased: compró/no compró un producto en particular.\n",
        "\n",
        "Ahora sí, a trabajar. En primer lugar, recomendamos hacer una pequeña exploración de datos si tienes tiempo. Luego, sigue los pasos que aquí te dejamos. Si te sientes seguro/a, hasta puedes intentar implementar un SVM sobre ese dataset sin mirar la guía que dejamos. En ese caso, te conviene hacerlo en otro notebook. ¡Inténtalo!"
      ]
    },
    {
      "cell_type": "markdown",
      "metadata": {
        "id": "LUgGMm6qHjJh"
      },
      "source": [
        "1. Importa las librerías necesarias y carga el dataset."
      ]
    },
    {
      "cell_type": "code",
      "metadata": {
        "id": "Lchuu-EUDwZe"
      },
      "source": [
        ""
      ],
      "execution_count": null,
      "outputs": []
    },
    {
      "cell_type": "markdown",
      "metadata": {
        "id": "fpp_XwsOHjJ6"
      },
      "source": [
        "2. Sólo vamos a utilizar como features las columnas `Age` y `EstimatedSalary` (así podemos visualizar). Y como target a la columna `Purchased`"
      ]
    },
    {
      "cell_type": "code",
      "metadata": {
        "id": "Kbn5-NdOHjJ9"
      },
      "source": [
        ""
      ],
      "execution_count": null,
      "outputs": []
    },
    {
      "cell_type": "markdown",
      "metadata": {
        "id": "nCe2rc2MHjKF"
      },
      "source": [
        "3. Separa los datos de entrenamiento de los datos de prueba."
      ]
    },
    {
      "cell_type": "code",
      "metadata": {
        "id": "FJfwaadlHjKG"
      },
      "source": [
        ""
      ],
      "execution_count": null,
      "outputs": []
    },
    {
      "cell_type": "markdown",
      "metadata": {
        "id": "5CoOAvktHjKQ"
      },
      "source": [
        "4. Estandariza los datos (`StandardScaler`)."
      ]
    },
    {
      "cell_type": "code",
      "metadata": {
        "id": "oVGZNqjzHjKS"
      },
      "source": [
        ""
      ],
      "execution_count": null,
      "outputs": []
    },
    {
      "cell_type": "markdown",
      "metadata": {
        "id": "InQjGmJvHjKZ"
      },
      "source": [
        "5. Entrena un SVM. Para ello, utiliza la clase `SVC` de la librería Scikit-Learn cuya documentación la puedes encontrar [aquí](https://scikit-learn.org/stable/modules/generated/sklearn.svm.SVC.html)."
      ]
    },
    {
      "cell_type": "code",
      "metadata": {
        "id": "mQQlaTW-HjKb"
      },
      "source": [
        ""
      ],
      "execution_count": null,
      "outputs": []
    },
    {
      "cell_type": "markdown",
      "metadata": {
        "id": "GnoL1DUJHjKm"
      },
      "source": [
        "6. Realiza las predicciones sobre los datos de prueba."
      ]
    },
    {
      "cell_type": "code",
      "metadata": {
        "id": "M6tPdEzBHjKo"
      },
      "source": [
        ""
      ],
      "execution_count": null,
      "outputs": []
    },
    {
      "cell_type": "markdown",
      "metadata": {
        "id": "lwJFgw4BHjK5"
      },
      "source": [
        "7. Visualiza los resultados mediante:\n",
        " \n",
        "* Matriz de confusión (`confusion_matrix`)\n",
        "* Reporte de clasificación (`classification_report`)\n",
        "* Gráfico de fronteras de decisión (¡Busca en notebooks anteriores!)"
      ]
    },
    {
      "cell_type": "code",
      "metadata": {
        "id": "n9qLat3QDwZh"
      },
      "source": [
        ""
      ],
      "execution_count": null,
      "outputs": []
    },
    {
      "cell_type": "code",
      "metadata": {
        "id": "h7DKOmcyDwZh"
      },
      "source": [
        ""
      ],
      "execution_count": null,
      "outputs": []
    },
    {
      "cell_type": "code",
      "metadata": {
        "id": "9Pfh7TWTDwZh"
      },
      "source": [
        ""
      ],
      "execution_count": null,
      "outputs": []
    },
    {
      "cell_type": "markdown",
      "metadata": {
        "id": "pkt9nlNnHjLx"
      },
      "source": [
        "**Para probar:**\n",
        "1. Modifica el `kernel` del clasificador y observar cómo se modifican las fronteras encontradas por el mismo y su performance. Por ejemplo, prueba con con los siguientes kernels: `rbf`, `poly` y `sigmoid`.\n",
        "2. ¿Cuál es la función del parámetro `Gamma`?\n",
        "3. Repite el ejercicio 1, modificando los valores de `Gamma`\n",
        "4. Modifica el parámetro `C` del clasificador y observar cómo se modifican las fronteras encontradas por el clasificador y su performance. ¿Cómo se puede interpretar la acción de `C`? \n",
        "\n",
        "\n",
        "## 2. Manos a la obra: Kernel + SVM\n",
        "\n",
        "En base a todo lo visto en anteriormente, vamos a aplicar SVM al dataset `DS_Clase_04_iris.csv` ¿Cuantas clases tiene este dataset? ¿Es un problema multiclase? \n",
        "\n",
        "**Para investigar:** ¿Qué función cumple el parámetro `decision_function_shape` de la función SVC de scikit-learn?\n",
        "\n",
        "**Ejercicios:**\n",
        "\n",
        "1. Implementa 3 clasificadores SVM con Kernels: `Polinómico`, `Gaussiano` y `Sigmoide`\n",
        "2. Realiza la matriz de confusión y el reporte de clasificación para cada kernel.\n",
        "3. ¿Qué Kernel produce los mejores resultados?\n",
        "\n",
        "\n",
        "`Tip:` Utilizando el código visto al comienzo de la notebook, podés crear funciones que te permitan graficar la matriz de confusión y los límites de clasificación, sin tener que copiar y pegar todo el código."
      ]
    }
  ]
}
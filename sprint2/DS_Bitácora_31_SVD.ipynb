{
  "nbformat": 4,
  "nbformat_minor": 0,
  "metadata": {
    "kernelspec": {
      "display_name": "Python 3",
      "language": "python",
      "name": "python3"
    },
    "language_info": {
      "codemirror_mode": {
        "name": "ipython",
        "version": 3
      },
      "file_extension": ".py",
      "mimetype": "text/x-python",
      "name": "python",
      "nbconvert_exporter": "python",
      "pygments_lexer": "ipython3",
      "version": "3.8.2"
    },
    "colab": {
      "name": "DS_Bitácora_31_SVD.ipynb",
      "provenance": []
    }
  },
  "cells": [
    {
      "cell_type": "markdown",
      "metadata": {
        "id": "DzPB_V-Y0iwQ"
      },
      "source": [
        "# Reducción de dimensionalidad - SVD\n",
        "\n",
        "### 1. Ejemplo: compresión de una imagen\n",
        "\n",
        "Vamos a empezar con un ejemplo simple, diferente a los que solemos utilizar. SVD puede ser usado en el contexto de imágenes para comprimir fotos. De esta forma, obtendrás una demostració \"visual\" del funcionamiento de SVS. En el notebook anterior viste que una imágen (en blanco y negro) es una matriz. Si en lugar de guardar la foto entera (Matriz M de la clase), uno guardase una representación reducida de esta matriz (B) y la manera de pasar de un espacio a otro (V*), entonces se podría ahorrar mucho espacio en el guardado de la foto. Este mismo proceso se utiliza a veces en imágenes y señales para reducir el ruido de las mismas (proceso llamado denoising).\n",
        "\n",
        "El formalismo de SVD nos asegura que dado el rango que eligamos (r), la foto que podamos reconstruir a partir de B y V* (M moño) será la \"mas parecida\" posible a la foto original (M)\n",
        "\n",
        "1. Primero cargamos la foto. Si no la tienen, deberán bajarse la libreria PIL para hacer este proceso mas fácil."
      ]
    },
    {
      "cell_type": "code",
      "metadata": {
        "id": "Vp-0xeiB0iwS"
      },
      "source": [
        "from PIL import Image\n",
        "import matplotlib.pyplot as plt\n",
        "import numpy as np\n",
        "%matplotlib inline\n",
        "plt.style.use('classic')\n",
        "img = Image.open('domo_dormido.jpeg')\n",
        "# convert image to grayscale\n",
        "imggray = img.convert('LA')\n",
        "# convert to numpy array\n",
        "imgmat = np.array(list(imggray.getdata(band=0)), float)\n",
        "# Reshape according to orginal image dimensions\n",
        "imgmat.shape = (imggray.size[1], imggray.size[0])\n",
        "\n",
        "plt.figure(figsize=(9, 6))\n",
        "plt.imshow(imgmat, cmap='gray')\n",
        "plt.show()"
      ],
      "execution_count": null,
      "outputs": []
    },
    {
      "cell_type": "code",
      "metadata": {
        "id": "e8hakKca0iwe"
      },
      "source": [
        "imgmat.shape"
      ],
      "execution_count": null,
      "outputs": []
    },
    {
      "cell_type": "markdown",
      "metadata": {
        "id": "RQ_8MFXm0iwo"
      },
      "source": [
        "2. Vamos a usar la versión clasica del algoritmo de SVD que viene en Numpy (noten que importante que es, que viene por default en Numpy, ya que se usa para muchas más cosas)."
      ]
    },
    {
      "cell_type": "code",
      "metadata": {
        "id": "rRyMdtiO0iwq"
      },
      "source": [
        "U, D, V = np.linalg.svd(imgmat)"
      ],
      "execution_count": null,
      "outputs": []
    },
    {
      "cell_type": "markdown",
      "metadata": {
        "id": "CSOBcQEh0iww"
      },
      "source": [
        "3. Inspeccionemos la dimensión de los elementos:"
      ]
    },
    {
      "cell_type": "code",
      "metadata": {
        "id": "vMVkIBtp0iwx"
      },
      "source": [
        "imgmat.shape"
      ],
      "execution_count": null,
      "outputs": []
    },
    {
      "cell_type": "code",
      "metadata": {
        "id": "CtQCESHr0iw4"
      },
      "source": [
        "U.shape"
      ],
      "execution_count": null,
      "outputs": []
    },
    {
      "cell_type": "code",
      "metadata": {
        "id": "3MhMvyzw0iw-"
      },
      "source": [
        "D.shape"
      ],
      "execution_count": null,
      "outputs": []
    },
    {
      "cell_type": "code",
      "metadata": {
        "id": "AVasDu1x0ixE"
      },
      "source": [
        "V.shape"
      ],
      "execution_count": null,
      "outputs": []
    },
    {
      "cell_type": "markdown",
      "metadata": {
        "id": "2_To--db0ixH"
      },
      "source": [
        "4. Así como está, si multiplicamos adecuadamente estos tres elementos, recuperariamos la foto original. Veamos que si tomamos los 960 valores singulares tendremos la imagen original nuevamente:"
      ]
    },
    {
      "cell_type": "code",
      "metadata": {
        "scrolled": true,
        "id": "o9SSvchs0ixI"
      },
      "source": [
        "reconstimg = np.matrix(U[:, :imgmat.shape[0]]) * np.diag(D[:imgmat.shape[0]]) * np.matrix(V[:imgmat.shape[0], :])\n",
        "plt.imshow(reconstimg, cmap='gray')\n",
        "plt.show()"
      ],
      "execution_count": null,
      "outputs": []
    },
    {
      "cell_type": "markdown",
      "metadata": {
        "id": "KlKFqOFL0ixN"
      },
      "source": [
        "5. El objetivo pasa por tomar unicamente los valores singulares más altos. Por una cuestión de comodidad, los valores en D (notar que representa una matriz diagonal pero viene en forma de vector!) ya están ordenados de menor a mayor, siendo los primeros los de mayor valor. Ahora sí, vamos a probar tomando menos valores singulares, empecemos por sólo 3."
      ]
    },
    {
      "cell_type": "code",
      "metadata": {
        "id": "CWgrWo860ixO"
      },
      "source": [
        "reconstimg = np.matrix(U[:, :3]) * np.diag(D[:3]) * np.matrix(V[:3, :])\n",
        "plt.imshow(reconstimg, cmap='gray')\n",
        "plt.show()"
      ],
      "execution_count": null,
      "outputs": []
    },
    {
      "cell_type": "markdown",
      "metadata": {
        "id": "DhHmFgHr0ixS"
      },
      "source": [
        "6. No es muy sorprendente el resultado, pero ya se puede al menos ver que hay un objeto en el centro de la imagen. Para tener tan poca información (sólo los tres vectores propios asociados a los valores propios y los vectores propios) no está tan mal. Ahora si, barramos una cantidad más razonable de valores singulares, y observemos los resultados."
      ]
    },
    {
      "cell_type": "code",
      "metadata": {
        "id": "dbOT_Im40ixT"
      },
      "source": [
        "for i in [5, 10, 15, 20, 30, 50,100]:\n",
        "    reconstimg = np.matrix(U[:, :i]) * np.diag(D[:i]) * np.matrix(V[:i, :])\n",
        "    plt.imshow(reconstimg, cmap='gray')\n",
        "    title = \"n = %s\" % i\n",
        "    plt.title(title)\n",
        "    plt.show()"
      ],
      "execution_count": null,
      "outputs": []
    },
    {
      "cell_type": "markdown",
      "metadata": {
        "id": "yTjA2bI40ixY"
      },
      "source": [
        "## 2. ¡A probar con un dataset!\n",
        "\n",
        "Así como hiciste con Clustering, es momento de probar estas técnicas con un dataset de tu elección. Para hacerlo, te recomendamos que mires atentamente la [documentación de Scikit-Learn](https://scikit-learn.org/stable/modules/decomposition.html) y que utilices una implementación de SVD de esa librería, preferiblemente [`TruncatedSVD`](https://scikit-learn.org/stable/modules/generated/sklearn.decomposition.TruncatedSVD.html). Es importante que mires la documentación de esa clase, en particular el ejemplo para comenzar. ¡Ya es hora de aprender solo/a cómo aplicar una herramienta nueva!"
      ]
    },
    {
      "cell_type": "code",
      "metadata": {
        "id": "SwQdrb4J0ixY"
      },
      "source": [
        ""
      ],
      "execution_count": null,
      "outputs": []
    },
    {
      "cell_type": "code",
      "metadata": {
        "id": "qKtKsJgQ0ixf"
      },
      "source": [
        ""
      ],
      "execution_count": null,
      "outputs": []
    },
    {
      "cell_type": "code",
      "metadata": {
        "id": "A3DO1icH0ixk"
      },
      "source": [
        ""
      ],
      "execution_count": null,
      "outputs": []
    }
  ]
}
{
  "nbformat": 4,
  "nbformat_minor": 0,
  "metadata": {
    "kernelspec": {
      "display_name": "Python 3",
      "language": "python",
      "name": "python3"
    },
    "language_info": {
      "codemirror_mode": {
        "name": "ipython",
        "version": 3
      },
      "file_extension": ".py",
      "mimetype": "text/x-python",
      "name": "python",
      "nbconvert_exporter": "python",
      "pygments_lexer": "ipython3",
      "version": "3.7.3"
    },
    "colab": {
      "name": "DS_Toolbox_04_Estadística_y_Pandas_RESUELTO.ipynb",
      "provenance": []
    }
  },
  "cells": [
    {
      "cell_type": "markdown",
      "metadata": {
        "id": "-PjbZcFm6zx5"
      },
      "source": [
        "# Estadística Descriptiva y Pandas\n",
        "\n",
        "El objetivo del siguiente notebook es, además de repasar conceptos de estadística, que sigas aprendiendo a operar con Numpy y que, además, incorpores Pandas a tu caja de herramientas.\n",
        "\n",
        "## 1. Estadística Descriptiva\n",
        "\n",
        "La Estadística Descriptiva nos sirve para comenzar a analizar y entender un conjunto de datos. En el caso de datos numéricos, lo hace obteniendo *valores estadísticos* que, de alguna forma, reemplazan a nuestros datos. Por ejemplo, es muy difícil leer y *entender* la edad de 1000 personas. Pero con un grupo reducido de valores estadísticos (mínimo, máximo, media y desviación estándar, etc.) podemos aproximarnos a ese conjunto de una manera mucho más comprensible. Veamos dos medidas muy importantes:\n",
        "\n",
        "**Promedio**\n",
        "\n",
        "Dados $n$ números $x_1,x_2,...,x_n$, el promedio o media es \n",
        "\n",
        "$$\\overline{x} = \\frac{1}{n}\\sum_{i=1}^{n} x_i = \\frac{x_1 + x_2 + ... + x_n}{n}$$\n",
        "\n",
        "**Desviación Estándar**\n",
        "\n",
        "La varianza y la desviación estándar nos dan una idea de cuán \"dispersos\" están los valores con respecto a su promedio.\n",
        "\n",
        "$$ Var = \\frac{\\sum_{i=1}^{n} (x_i -\\overline{x})^2}{n - 1}$$\n",
        "\n",
        "La desviación estándar es la raiz cuadrada de la varianza. En general se usa la letra griega $\\sigma$ para representarla o las siglas $SD$:\n",
        "\n",
        "$$ SD = \\sqrt{\\frac{\\sum_{i=1}^{n} (x_i -\\overline{x})^2}{n - 1}}$$\n",
        "\n",
        "$$ SD = \\sqrt{Var}$$\n",
        "\n",
        "\n",
        "**Comentarios**:\n",
        "1. Dado un conjunto de números, el promedio suele ser considerado el número más representativo de ese conjunto. Esto no siempre es así. Pensá o googleá por qué.\n",
        "2. Al conjunto de números $x_1,...,x_n$ los pueden encontrar por el nombre de *población* o *muestra* (¡Ojo que no estamos diciendo que *población* y *muestra* sean lo mismo!).\n",
        "\n",
        "### Challenge:\n",
        "\n",
        "Vamos a utilizar de excusa la estadística descriptiva para hacer un desafío de programación:\n",
        "\n",
        "Dadas la siguiente lista de números, escribir una rutina que calcule su promedio, su varianza y desviación estándar. **Pistas:**\n",
        "* Probablemente te sea muy útil usar lo que hiciste para ejercicios anteriores.\n",
        "* Para calcular la varianza y la desviación estándar, usa el resultado que obtuviste al calcular el promedio."
      ]
    },
    {
      "cell_type": "code",
      "metadata": {
        "id": "ZyY1mRgd6zx8",
        "outputId": "6cc2a686-6cdb-4ce9-d11b-66314da5684c"
      },
      "source": [
        "x_s = [1,2,3,1,2,2,3,4,1,2,3,4,1,2,4]\n",
        "n = len(x_s)\n",
        "\n",
        "mean = 0\n",
        "for x in x_s:\n",
        "    mean +=x # Equivalente a mean = mean + x\n",
        "mean/=n # Equivalente a mean = mean/n\n",
        "print(mean)\n",
        "\n",
        "### Una forma más fácil\n",
        "mean = sum(x_s)/len(x_s)\n",
        "print(mean)"
      ],
      "execution_count": null,
      "outputs": [
        {
          "output_type": "stream",
          "text": [
            "2.3333333333333335\n",
            "2.3333333333333335\n"
          ],
          "name": "stdout"
        }
      ]
    },
    {
      "cell_type": "code",
      "metadata": {
        "id": "OGGkW45X6zx-",
        "outputId": "62750def-cabf-4975-b914-df2a05a42d33"
      },
      "source": [
        "n = len(x_s)\n",
        "\n",
        "var = 0\n",
        "for x in x_s:\n",
        "    var += (x - mean)**2\n",
        "var/= n - 1\n",
        "std = var**(1/2)\n",
        "\n",
        "print(var)\n",
        "print(std)"
      ],
      "execution_count": null,
      "outputs": [
        {
          "output_type": "stream",
          "text": [
            "1.2380952380952384\n",
            "1.1126972805283737\n"
          ],
          "name": "stdout"
        }
      ]
    },
    {
      "cell_type": "markdown",
      "metadata": {
        "id": "9DE_wSxY6zx-"
      },
      "source": [
        "¿Cómo te fue con el Challenge? Si no pudiste resolverlo, no te preocupes. ¡NumPy tiene funciones ya incorporadas que calcula algunos estadísticos sobre un arreglo!\n",
        "\n",
        "### 1.2 Estadística con NumPy\n",
        "\n",
        "Veamos cómo se calculan, en NumPy, el promedio, varianza y desviación estándar sobre un arreglo."
      ]
    },
    {
      "cell_type": "code",
      "metadata": {
        "id": "OzaCTptW6zx_",
        "outputId": "6ed254a5-1bbf-4111-a807-4405dbf0fb4b"
      },
      "source": [
        "import numpy as np\n",
        "\n",
        "x_s = np.array([1,2,3,1,2,2,3,4,1,2,3,4,1,2,4])\n",
        "\n",
        "# Promedio\n",
        "print(x_s.mean())\n",
        "\n",
        "# Varianza\n",
        "print(x_s.var(ddof = 1))\n",
        "\n",
        "# Desviación estándar\n",
        "print(x_s.std(ddof = 1))"
      ],
      "execution_count": null,
      "outputs": [
        {
          "output_type": "stream",
          "text": [
            "2.3333333333333335\n",
            "1.238095238095238\n",
            "1.1126972805283735\n"
          ],
          "name": "stdout"
        }
      ]
    },
    {
      "cell_type": "markdown",
      "metadata": {
        "id": "9imr_GiX6zx_"
      },
      "source": [
        "**Para investigar**: ¿qué es el parámetro `ddof` de esa función?¿Qué pasa si no lo usas? Esta pregunta es **difícil** y requiere cierto conocimiento previo. Pero intenta, de todas formas, averiguarlo.\n",
        "\n",
        "NumPy también puede calcular percentilos (¡googlear!), cuantilos, mínimos y máximos:"
      ]
    },
    {
      "cell_type": "code",
      "metadata": {
        "id": "81Fk0qMU6zyA",
        "outputId": "b5a8a22a-bd50-4378-b62d-42ab792f815c"
      },
      "source": [
        "print(np.percentile(x_s,75))\n",
        "print(np.quantile(x_s,0.5))\n",
        "print(np.min(x_s))\n",
        "print(np.max(x_s))"
      ],
      "execution_count": null,
      "outputs": [
        {
          "output_type": "stream",
          "text": [
            "3.0\n",
            "2.0\n",
            "1\n",
            "4\n"
          ],
          "name": "stdout"
        }
      ]
    },
    {
      "cell_type": "markdown",
      "metadata": {
        "id": "ne1qTXrD6zyA"
      },
      "source": [
        "**Para investigar**: ¿Cuál es la diferencia entre `np.percentile()` y `np.quantile()`?¿Cómo obtendrías los cuartiles a partir de ellos?\n",
        "\n",
        "### 1.3 Generación de muestras al azar\n",
        "\n",
        "Una cosa sumamente útil que podemos hacer con NumPy es generar muestras al azar. Esto no permite simular situaciones. Por ejemplo, las tiradas de dados que aparecen en el GIF de la bitácora. Estas funciones las encontramos dentro del paquete `random` de NumPy, cuya documentación pueden encontrar [aquí](https://docs.scipy.org/doc/numpy-1.15.0/reference/routines.random.html). Veamos cómo lo podemos hacer:"
      ]
    },
    {
      "cell_type": "code",
      "metadata": {
        "id": "nJhNGnNR6zyB",
        "outputId": "f174883b-9717-4c24-af06-51a4e91c74ed"
      },
      "source": [
        "muestras_dado = np.random.randint(1,7, size = 15)\n",
        "print(muestras_dado)\n",
        "\n",
        "### También se puede\n",
        "muestras_dado = np.random.choice([1,2,3,4,5,6], size = 15)\n",
        "print(muestras_dado)"
      ],
      "execution_count": null,
      "outputs": [
        {
          "output_type": "stream",
          "text": [
            "[6 5 5 3 2 5 3 3 1 2 6 4 3 6 5]\n",
            "[5 5 3 5 2 6 4 6 3 1 4 4 2 1 3]\n"
          ],
          "name": "stdout"
        }
      ]
    },
    {
      "cell_type": "markdown",
      "metadata": {
        "id": "hRuD9hnT6zyB"
      },
      "source": [
        "### Ejercitación\n",
        "\n",
        "**Ejercicio 1:** ¿Cuál será el promedio de los valores obtenidos al tirar muchas veces un dado?¿Te animás a averiguar - o calcular - cuánto *debería dar* antes de hacerlo? Vamos a tratar de responder esta pregunta **simulando** un dado. Para ello:\n",
        "* Obtener muestras al azar de un dado usando lo que vimos anteriormente.\n",
        "* Calcular su promedio y desviación estándar.\n",
        "\n",
        "¿A partir de qué cantidad de muestras el promedio se \"estabiliza\"?"
      ]
    },
    {
      "cell_type": "code",
      "metadata": {
        "scrolled": true,
        "id": "ufSnVsS16zyC",
        "outputId": "290a7f1d-5de7-44c4-bac2-0c8181fa0c26"
      },
      "source": [
        "N = 1000000\n",
        "muestras_dado = np.random.randint(1,7, size = N)\n",
        "print(muestras_dado.mean(), muestras_dado.std())"
      ],
      "execution_count": null,
      "outputs": [
        {
          "output_type": "stream",
          "text": [
            "3.501686 1.7081859258886314\n"
          ],
          "name": "stdout"
        }
      ]
    },
    {
      "cell_type": "markdown",
      "metadata": {
        "id": "WPaTpn3c6zyC"
      },
      "source": [
        "**Ejercicio 2:** Simular un dado cargado para favorecer un valor de su elección. Por ejemplo, el seis. Para ello, consultar la ayuda de la función `np.random.choice`. ¿Cómo se modifica el promedio y la desviación estándar?"
      ]
    },
    {
      "cell_type": "code",
      "metadata": {
        "id": "3WzvvYYH6zyD"
      },
      "source": [
        "# a. Crear un arreglo que asigne probabilidades a cada valor del dado. Recordar que las probabilidades deben sumar 1\n",
        "probabilidades = np.array([1,1,1,1,1,4])\n",
        "probabilidades = probabilidades/probabilidades.sum()"
      ],
      "execution_count": null,
      "outputs": []
    },
    {
      "cell_type": "code",
      "metadata": {
        "id": "PK57uCVr6zyD",
        "outputId": "0d24d94d-8a39-4cfd-bf24-0fb97de59589"
      },
      "source": [
        "# b. Generar las muestras\n",
        "muestras_dado_cargado = np.random.choice([1,2,3,4,5,6],p=probabilidades, size = 50)\n",
        "print(muestras_dado_cargado)"
      ],
      "execution_count": null,
      "outputs": [
        {
          "output_type": "stream",
          "text": [
            "[6 3 2 5 6 2 3 3 2 6 2 5 2 3 6 2 1 1 6 4 3 2 1 6 6 6 2 6 6 5 6 6 6 3 4 6 1\n",
            " 2 2 1 5 3 6 1 3 3 5 5 6 2]\n"
          ],
          "name": "stdout"
        }
      ]
    },
    {
      "cell_type": "code",
      "metadata": {
        "id": "pP_7LeJ36zyD",
        "outputId": "ada759e7-c32d-4756-d876-0dba8bf8d122"
      },
      "source": [
        "print(muestras_dado_cargado.mean(), muestras_dado_cargado.std())"
      ],
      "execution_count": null,
      "outputs": [
        {
          "output_type": "stream",
          "text": [
            "3.78 1.8685823503394223\n"
          ],
          "name": "stdout"
        }
      ]
    },
    {
      "cell_type": "markdown",
      "metadata": {
        "id": "0NWufze36zyE"
      },
      "source": [
        "## 2. Pandas \n",
        "\n",
        "Pandas es la librería más conocida de Python para manipular y analizar datos. Está montada sobre NumPy, por lo cual muchas funcionalidades son similares. Utilizaremos Pandas para trabajar con datasets estructurados (y bueno, ¡bastante más!). \n",
        "\n",
        "Así como NumPy nos proveé de los *arreglos* y con ellos accedemos a muchas nuevas funcionalidades, Pandas nos provee de los *Data Frames* y las *Series*. Por lejos, el objeto más utilizados es el primero, los Data Frames. \n",
        "\n",
        "\n",
        "En esta sección empezaremos a:\n",
        "\n",
        "1. Familiarizarnos con los Data Frames de Pandas, manipular sus funciones básicas y entender la lógica de las mismas (¡para después googlearlas!).\n",
        "2. Empezar a trabajar con Datasets.\n",
        "\n",
        "**¡Manos a la obra!**\n",
        "\n",
        "### 2.1 Primeros pasos\n",
        "\n",
        "Importamos la librería."
      ]
    },
    {
      "cell_type": "code",
      "metadata": {
        "id": "icXL7MPl6zyE"
      },
      "source": [
        "import pandas as pd"
      ],
      "execution_count": null,
      "outputs": []
    },
    {
      "cell_type": "markdown",
      "metadata": {
        "id": "uxt3TwVt6zyE"
      },
      "source": [
        "Vamos a crear nuestro propio dataset. Es decir, agarrar a mano los datos poblacionales de http://www.ign.gob.ar/nuestrasactividades/geografia/datosargentina/divisionpolitica y guardarlos en una variable `data_dic`.¿Qué tipo de variable es, desde el punto de vista de la programación?\n",
        "\n",
        "**Nota**: la población está en número de habitantes y la superficie en km2."
      ]
    },
    {
      "cell_type": "code",
      "metadata": {
        "id": "iZYIE92f6zyF"
      },
      "source": [
        "data_dic = {\"Jurisdiccion\":[\"CABA\",\"Buenos Aires\",\"Catamarca\",\"Chaco\",\"Chubut\",\"Córdoba\",\"Jujuy\",\"Mendoza\",\"Misiones\",\"Río Negro\",\"Santa Cruz\",\n",
        "                           \"Santa Fe\"],\"Poblacion\":[2890151,15625084,367828,1055259,509108,3308876,673307,1738929,\n",
        "                                                   1101593,638645,273964,3194537],\"Superficie\":\n",
        "           [200,307521,102606,99633,509108,165321,53219,148827,29801,203013,243943,133007]}"
      ],
      "execution_count": null,
      "outputs": []
    },
    {
      "cell_type": "markdown",
      "metadata": {
        "id": "UjzBXf5G6zyF"
      },
      "source": [
        "Así como podemos crear arreglos a partir de listas, podemos crear Data Frames a partir de diccionarios."
      ]
    },
    {
      "cell_type": "code",
      "metadata": {
        "id": "01degX5Q6zyF",
        "outputId": "772ce897-1688-4ed3-c613-f08890d778c0"
      },
      "source": [
        "# Creamos el DataFrame\n",
        "data_pandas = pd.DataFrame(data_dic)\n",
        "data_pandas"
      ],
      "execution_count": null,
      "outputs": [
        {
          "output_type": "execute_result",
          "data": {
            "text/html": [
              "<div>\n",
              "<style scoped>\n",
              "    .dataframe tbody tr th:only-of-type {\n",
              "        vertical-align: middle;\n",
              "    }\n",
              "\n",
              "    .dataframe tbody tr th {\n",
              "        vertical-align: top;\n",
              "    }\n",
              "\n",
              "    .dataframe thead th {\n",
              "        text-align: right;\n",
              "    }\n",
              "</style>\n",
              "<table border=\"1\" class=\"dataframe\">\n",
              "  <thead>\n",
              "    <tr style=\"text-align: right;\">\n",
              "      <th></th>\n",
              "      <th>Jurisdiccion</th>\n",
              "      <th>Poblacion</th>\n",
              "      <th>Superficie</th>\n",
              "    </tr>\n",
              "  </thead>\n",
              "  <tbody>\n",
              "    <tr>\n",
              "      <th>0</th>\n",
              "      <td>CABA</td>\n",
              "      <td>2890151</td>\n",
              "      <td>200</td>\n",
              "    </tr>\n",
              "    <tr>\n",
              "      <th>1</th>\n",
              "      <td>Buenos Aires</td>\n",
              "      <td>15625084</td>\n",
              "      <td>307521</td>\n",
              "    </tr>\n",
              "    <tr>\n",
              "      <th>2</th>\n",
              "      <td>Catamarca</td>\n",
              "      <td>367828</td>\n",
              "      <td>102606</td>\n",
              "    </tr>\n",
              "    <tr>\n",
              "      <th>3</th>\n",
              "      <td>Chaco</td>\n",
              "      <td>1055259</td>\n",
              "      <td>99633</td>\n",
              "    </tr>\n",
              "    <tr>\n",
              "      <th>4</th>\n",
              "      <td>Chubut</td>\n",
              "      <td>509108</td>\n",
              "      <td>509108</td>\n",
              "    </tr>\n",
              "    <tr>\n",
              "      <th>5</th>\n",
              "      <td>Córdoba</td>\n",
              "      <td>3308876</td>\n",
              "      <td>165321</td>\n",
              "    </tr>\n",
              "    <tr>\n",
              "      <th>6</th>\n",
              "      <td>Jujuy</td>\n",
              "      <td>673307</td>\n",
              "      <td>53219</td>\n",
              "    </tr>\n",
              "    <tr>\n",
              "      <th>7</th>\n",
              "      <td>Mendoza</td>\n",
              "      <td>1738929</td>\n",
              "      <td>148827</td>\n",
              "    </tr>\n",
              "    <tr>\n",
              "      <th>8</th>\n",
              "      <td>Misiones</td>\n",
              "      <td>1101593</td>\n",
              "      <td>29801</td>\n",
              "    </tr>\n",
              "    <tr>\n",
              "      <th>9</th>\n",
              "      <td>Río Negro</td>\n",
              "      <td>638645</td>\n",
              "      <td>203013</td>\n",
              "    </tr>\n",
              "    <tr>\n",
              "      <th>10</th>\n",
              "      <td>Santa Cruz</td>\n",
              "      <td>273964</td>\n",
              "      <td>243943</td>\n",
              "    </tr>\n",
              "    <tr>\n",
              "      <th>11</th>\n",
              "      <td>Santa Fe</td>\n",
              "      <td>3194537</td>\n",
              "      <td>133007</td>\n",
              "    </tr>\n",
              "  </tbody>\n",
              "</table>\n",
              "</div>"
            ],
            "text/plain": [
              "    Jurisdiccion  Poblacion  Superficie\n",
              "0           CABA    2890151         200\n",
              "1   Buenos Aires   15625084      307521\n",
              "2      Catamarca     367828      102606\n",
              "3          Chaco    1055259       99633\n",
              "4         Chubut     509108      509108\n",
              "5        Córdoba    3308876      165321\n",
              "6          Jujuy     673307       53219\n",
              "7        Mendoza    1738929      148827\n",
              "8       Misiones    1101593       29801\n",
              "9      Río Negro     638645      203013\n",
              "10    Santa Cruz     273964      243943\n",
              "11      Santa Fe    3194537      133007"
            ]
          },
          "metadata": {
            "tags": []
          },
          "execution_count": 12
        }
      ]
    },
    {
      "cell_type": "markdown",
      "metadata": {
        "id": "Gzz60JL66zyG"
      },
      "source": [
        "**Ejercicio 1:** investigar las funciones que se implementan en la próxima celda. ¿Qué hacen? ¿Para qué piensan que pueden ser útiles?"
      ]
    },
    {
      "cell_type": "code",
      "metadata": {
        "id": "JjiCciX36zyG"
      },
      "source": [
        "# data_pandas.head()\n",
        "# data_pandas.tail()\n",
        "# data_pandas.count()\n",
        "# data_pandas.shape"
      ],
      "execution_count": null,
      "outputs": []
    },
    {
      "cell_type": "markdown",
      "metadata": {
        "id": "KXc7vv-h6zyH"
      },
      "source": [
        "**Ejercicio 2:** agregar al Dataset la información correspondiente a alguna jurisdicción faltante. Recuerden que, al tratarse de una nueva instancia, corresponde a una fila. Pista: googlear \"add row to pandas dataframe\" o similar. No hay una única forma de hacerlo."
      ]
    },
    {
      "cell_type": "code",
      "metadata": {
        "id": "G63VXuol6zyH",
        "outputId": "86b6f8fa-b3d0-4d70-a57c-cd467d3f9c87"
      },
      "source": [
        "data_pandas.loc[13] = ['Salta',1214441,155488]\n",
        "data_pandas"
      ],
      "execution_count": null,
      "outputs": [
        {
          "output_type": "execute_result",
          "data": {
            "text/html": [
              "<div>\n",
              "<style scoped>\n",
              "    .dataframe tbody tr th:only-of-type {\n",
              "        vertical-align: middle;\n",
              "    }\n",
              "\n",
              "    .dataframe tbody tr th {\n",
              "        vertical-align: top;\n",
              "    }\n",
              "\n",
              "    .dataframe thead th {\n",
              "        text-align: right;\n",
              "    }\n",
              "</style>\n",
              "<table border=\"1\" class=\"dataframe\">\n",
              "  <thead>\n",
              "    <tr style=\"text-align: right;\">\n",
              "      <th></th>\n",
              "      <th>Jurisdiccion</th>\n",
              "      <th>Poblacion</th>\n",
              "      <th>Superficie</th>\n",
              "    </tr>\n",
              "  </thead>\n",
              "  <tbody>\n",
              "    <tr>\n",
              "      <th>0</th>\n",
              "      <td>CABA</td>\n",
              "      <td>2890151</td>\n",
              "      <td>200</td>\n",
              "    </tr>\n",
              "    <tr>\n",
              "      <th>1</th>\n",
              "      <td>Buenos Aires</td>\n",
              "      <td>15625084</td>\n",
              "      <td>307521</td>\n",
              "    </tr>\n",
              "    <tr>\n",
              "      <th>2</th>\n",
              "      <td>Catamarca</td>\n",
              "      <td>367828</td>\n",
              "      <td>102606</td>\n",
              "    </tr>\n",
              "    <tr>\n",
              "      <th>3</th>\n",
              "      <td>Chaco</td>\n",
              "      <td>1055259</td>\n",
              "      <td>99633</td>\n",
              "    </tr>\n",
              "    <tr>\n",
              "      <th>4</th>\n",
              "      <td>Chubut</td>\n",
              "      <td>509108</td>\n",
              "      <td>509108</td>\n",
              "    </tr>\n",
              "    <tr>\n",
              "      <th>5</th>\n",
              "      <td>Córdoba</td>\n",
              "      <td>3308876</td>\n",
              "      <td>165321</td>\n",
              "    </tr>\n",
              "    <tr>\n",
              "      <th>6</th>\n",
              "      <td>Jujuy</td>\n",
              "      <td>673307</td>\n",
              "      <td>53219</td>\n",
              "    </tr>\n",
              "    <tr>\n",
              "      <th>7</th>\n",
              "      <td>Mendoza</td>\n",
              "      <td>1738929</td>\n",
              "      <td>148827</td>\n",
              "    </tr>\n",
              "    <tr>\n",
              "      <th>8</th>\n",
              "      <td>Misiones</td>\n",
              "      <td>1101593</td>\n",
              "      <td>29801</td>\n",
              "    </tr>\n",
              "    <tr>\n",
              "      <th>9</th>\n",
              "      <td>Río Negro</td>\n",
              "      <td>638645</td>\n",
              "      <td>203013</td>\n",
              "    </tr>\n",
              "    <tr>\n",
              "      <th>10</th>\n",
              "      <td>Santa Cruz</td>\n",
              "      <td>273964</td>\n",
              "      <td>243943</td>\n",
              "    </tr>\n",
              "    <tr>\n",
              "      <th>11</th>\n",
              "      <td>Santa Fe</td>\n",
              "      <td>3194537</td>\n",
              "      <td>133007</td>\n",
              "    </tr>\n",
              "    <tr>\n",
              "      <th>13</th>\n",
              "      <td>Salta</td>\n",
              "      <td>1214441</td>\n",
              "      <td>155488</td>\n",
              "    </tr>\n",
              "  </tbody>\n",
              "</table>\n",
              "</div>"
            ],
            "text/plain": [
              "    Jurisdiccion  Poblacion  Superficie\n",
              "0           CABA    2890151         200\n",
              "1   Buenos Aires   15625084      307521\n",
              "2      Catamarca     367828      102606\n",
              "3          Chaco    1055259       99633\n",
              "4         Chubut     509108      509108\n",
              "5        Córdoba    3308876      165321\n",
              "6          Jujuy     673307       53219\n",
              "7        Mendoza    1738929      148827\n",
              "8       Misiones    1101593       29801\n",
              "9      Río Negro     638645      203013\n",
              "10    Santa Cruz     273964      243943\n",
              "11      Santa Fe    3194537      133007\n",
              "13         Salta    1214441      155488"
            ]
          },
          "metadata": {
            "tags": []
          },
          "execution_count": 14
        }
      ]
    },
    {
      "cell_type": "markdown",
      "metadata": {
        "id": "D72iTQb46zyI"
      },
      "source": [
        "**Ejercicio 3:** Investigar las funciones columns e index. ¿Qué hacen? ¿Qué tipo de dato es su salida?¿A qué tipo de dato conocido se parecen?"
      ]
    },
    {
      "cell_type": "code",
      "metadata": {
        "id": "I0aSqFpr6zyJ"
      },
      "source": [
        "# data_pandas.columns\n",
        "# data_pandas.index"
      ],
      "execution_count": null,
      "outputs": []
    },
    {
      "cell_type": "markdown",
      "metadata": {
        "id": "quD-BswT6zyJ"
      },
      "source": [
        "**Ejercicio 4:** ¿Qué hacen las siguientes operaciones?"
      ]
    },
    {
      "cell_type": "code",
      "metadata": {
        "id": "JVk6kCJk6zyJ"
      },
      "source": [
        "# data_pandas['Jurisdiccion']\n",
        "# data_pandas[['Jurisdiccion','Poblacion']]\n",
        "# data_pandas.Jurisdiccion\n",
        "# 'Poblacion' in data_pandas"
      ],
      "execution_count": null,
      "outputs": []
    },
    {
      "cell_type": "markdown",
      "metadata": {
        "id": "u2OcbaZx6zyJ"
      },
      "source": [
        "**Ejercicio 5:** Agregar una columna al dataframe que corresponda a la densidad de cada jurisdicción. Usar la información que **ya está** en el dataset."
      ]
    },
    {
      "cell_type": "code",
      "metadata": {
        "id": "_AsBfazt6zyK",
        "outputId": "5d516317-5735-40fe-bb22-55b30e1b2e5c"
      },
      "source": [
        "data_pandas['Densidad'] = data_pandas['Poblacion'] / data_pandas['Superficie']\n",
        "data_pandas"
      ],
      "execution_count": null,
      "outputs": [
        {
          "output_type": "execute_result",
          "data": {
            "text/html": [
              "<div>\n",
              "<style scoped>\n",
              "    .dataframe tbody tr th:only-of-type {\n",
              "        vertical-align: middle;\n",
              "    }\n",
              "\n",
              "    .dataframe tbody tr th {\n",
              "        vertical-align: top;\n",
              "    }\n",
              "\n",
              "    .dataframe thead th {\n",
              "        text-align: right;\n",
              "    }\n",
              "</style>\n",
              "<table border=\"1\" class=\"dataframe\">\n",
              "  <thead>\n",
              "    <tr style=\"text-align: right;\">\n",
              "      <th></th>\n",
              "      <th>Jurisdiccion</th>\n",
              "      <th>Poblacion</th>\n",
              "      <th>Superficie</th>\n",
              "      <th>Densidad</th>\n",
              "    </tr>\n",
              "  </thead>\n",
              "  <tbody>\n",
              "    <tr>\n",
              "      <th>0</th>\n",
              "      <td>CABA</td>\n",
              "      <td>2890151</td>\n",
              "      <td>200</td>\n",
              "      <td>14450.755000</td>\n",
              "    </tr>\n",
              "    <tr>\n",
              "      <th>1</th>\n",
              "      <td>Buenos Aires</td>\n",
              "      <td>15625084</td>\n",
              "      <td>307521</td>\n",
              "      <td>50.809811</td>\n",
              "    </tr>\n",
              "    <tr>\n",
              "      <th>2</th>\n",
              "      <td>Catamarca</td>\n",
              "      <td>367828</td>\n",
              "      <td>102606</td>\n",
              "      <td>3.584859</td>\n",
              "    </tr>\n",
              "    <tr>\n",
              "      <th>3</th>\n",
              "      <td>Chaco</td>\n",
              "      <td>1055259</td>\n",
              "      <td>99633</td>\n",
              "      <td>10.591461</td>\n",
              "    </tr>\n",
              "    <tr>\n",
              "      <th>4</th>\n",
              "      <td>Chubut</td>\n",
              "      <td>509108</td>\n",
              "      <td>509108</td>\n",
              "      <td>1.000000</td>\n",
              "    </tr>\n",
              "    <tr>\n",
              "      <th>5</th>\n",
              "      <td>Córdoba</td>\n",
              "      <td>3308876</td>\n",
              "      <td>165321</td>\n",
              "      <td>20.014856</td>\n",
              "    </tr>\n",
              "    <tr>\n",
              "      <th>6</th>\n",
              "      <td>Jujuy</td>\n",
              "      <td>673307</td>\n",
              "      <td>53219</td>\n",
              "      <td>12.651628</td>\n",
              "    </tr>\n",
              "    <tr>\n",
              "      <th>7</th>\n",
              "      <td>Mendoza</td>\n",
              "      <td>1738929</td>\n",
              "      <td>148827</td>\n",
              "      <td>11.684231</td>\n",
              "    </tr>\n",
              "    <tr>\n",
              "      <th>8</th>\n",
              "      <td>Misiones</td>\n",
              "      <td>1101593</td>\n",
              "      <td>29801</td>\n",
              "      <td>36.964968</td>\n",
              "    </tr>\n",
              "    <tr>\n",
              "      <th>9</th>\n",
              "      <td>Río Negro</td>\n",
              "      <td>638645</td>\n",
              "      <td>203013</td>\n",
              "      <td>3.145833</td>\n",
              "    </tr>\n",
              "    <tr>\n",
              "      <th>10</th>\n",
              "      <td>Santa Cruz</td>\n",
              "      <td>273964</td>\n",
              "      <td>243943</td>\n",
              "      <td>1.123066</td>\n",
              "    </tr>\n",
              "    <tr>\n",
              "      <th>11</th>\n",
              "      <td>Santa Fe</td>\n",
              "      <td>3194537</td>\n",
              "      <td>133007</td>\n",
              "      <td>24.017811</td>\n",
              "    </tr>\n",
              "    <tr>\n",
              "      <th>13</th>\n",
              "      <td>Salta</td>\n",
              "      <td>1214441</td>\n",
              "      <td>155488</td>\n",
              "      <td>7.810513</td>\n",
              "    </tr>\n",
              "  </tbody>\n",
              "</table>\n",
              "</div>"
            ],
            "text/plain": [
              "    Jurisdiccion  Poblacion  Superficie      Densidad\n",
              "0           CABA    2890151         200  14450.755000\n",
              "1   Buenos Aires   15625084      307521     50.809811\n",
              "2      Catamarca     367828      102606      3.584859\n",
              "3          Chaco    1055259       99633     10.591461\n",
              "4         Chubut     509108      509108      1.000000\n",
              "5        Córdoba    3308876      165321     20.014856\n",
              "6          Jujuy     673307       53219     12.651628\n",
              "7        Mendoza    1738929      148827     11.684231\n",
              "8       Misiones    1101593       29801     36.964968\n",
              "9      Río Negro     638645      203013      3.145833\n",
              "10    Santa Cruz     273964      243943      1.123066\n",
              "11      Santa Fe    3194537      133007     24.017811\n",
              "13         Salta    1214441      155488      7.810513"
            ]
          },
          "metadata": {
            "tags": []
          },
          "execution_count": 17
        }
      ]
    },
    {
      "cell_type": "markdown",
      "metadata": {
        "id": "p9QE-vm76zyK"
      },
      "source": [
        "### 2.2 Filtrado por máscara.\n",
        "\n",
        "Lo que veremos a continuación es **muy importante**, ya que es una operación que haremos muchas veces. Su implementación es muy parecida tanto en NumPy como en Pandas, por lo que veremos cómo hacerlo primero en NumPy luego en Pandas.\n",
        "\n",
        "Supongamos que hacemos 50 tiradas de un dado, como hicimos en la sección anterior, pero queremos seleccionar solamente aquellas tiradas que fueron menores que cuatro. ¿Cómo podemos hacerlo?"
      ]
    },
    {
      "cell_type": "code",
      "metadata": {
        "id": "M4LVTVzi6zyK",
        "outputId": "f80e46d9-83ed-42c8-b831-e1fa16fbd116"
      },
      "source": [
        "muestras_dado = np.random.randint(1,7, size = 50)\n",
        "print(muestras_dado)"
      ],
      "execution_count": null,
      "outputs": [
        {
          "output_type": "stream",
          "text": [
            "[1 2 4 6 5 1 6 6 1 6 6 2 4 1 4 2 3 4 1 4 5 4 4 1 1 1 5 3 3 6 6 6 1 1 5 2 2\n",
            " 6 2 3 5 6 6 2 2 5 1 1 6 4]\n"
          ],
          "name": "stdout"
        }
      ]
    },
    {
      "cell_type": "markdown",
      "metadata": {
        "id": "Tw5NdCVf6zyL"
      },
      "source": [
        "Lo que podemos hacer es crear una máscara:"
      ]
    },
    {
      "cell_type": "code",
      "metadata": {
        "id": "dlH4NuhW6zyL",
        "outputId": "7df9bdc4-87f7-4eda-a4ad-aee41506dd05"
      },
      "source": [
        "mascara = muestras_dado < 4\n",
        "print(mascara)\n",
        "print(type(mascara))"
      ],
      "execution_count": null,
      "outputs": [
        {
          "output_type": "stream",
          "text": [
            "[ True  True False False False  True False False  True False False  True\n",
            " False  True False  True  True False  True False False False False  True\n",
            "  True  True False  True  True False False False  True  True False  True\n",
            "  True False  True  True False False False  True  True False  True  True\n",
            " False False]\n",
            "<class 'numpy.ndarray'>\n"
          ],
          "name": "stdout"
        }
      ]
    },
    {
      "cell_type": "markdown",
      "metadata": {
        "id": "Zs7xDkpi6zyM"
      },
      "source": [
        "Notar que `mascara` es un arreglo de booleanos, con `True` en los valores que cumplen la condición y `False` donde no. Una vez que creamos la máscara, podemos usarla para seleccionar de nuestro arreglo aquellos elementos que queríamos:"
      ]
    },
    {
      "cell_type": "code",
      "metadata": {
        "id": "AWt_Ndgq6zyM",
        "outputId": "e3bf0a08-40ee-45a8-cc45-3cec21d226f8"
      },
      "source": [
        "print(muestras_dado[mascara])"
      ],
      "execution_count": null,
      "outputs": [
        {
          "output_type": "stream",
          "text": [
            "[1 2 1 1 2 1 2 3 1 1 1 1 3 3 1 1 2 2 2 3 2 2 1 1]\n"
          ],
          "name": "stdout"
        }
      ]
    },
    {
      "cell_type": "markdown",
      "metadata": {
        "id": "LkRE1vfW6zyM"
      },
      "source": [
        "Notar que con `mascara.sum()` podemos contar cuántas veces se cumple la condición que pedimos."
      ]
    },
    {
      "cell_type": "code",
      "metadata": {
        "id": "vvZEq_no6zyM",
        "outputId": "95b725b1-188d-4c92-ae5a-c333c09b8a01"
      },
      "source": [
        "print(mascara.sum())"
      ],
      "execution_count": null,
      "outputs": [
        {
          "output_type": "stream",
          "text": [
            "24\n"
          ],
          "name": "stdout"
        }
      ]
    },
    {
      "cell_type": "markdown",
      "metadata": {
        "id": "UkeG6c0W6zyN"
      },
      "source": [
        "A veces, podemos hacerlo en una sola línea. Supongamos que queremos aquellas tiradas donde salió seis:"
      ]
    },
    {
      "cell_type": "code",
      "metadata": {
        "id": "uOSML5vt6zyN",
        "outputId": "2f99274f-348e-4a56-94db-68ce88c08497"
      },
      "source": [
        "print(muestras_dado[muestras_dado == 6])"
      ],
      "execution_count": null,
      "outputs": [
        {
          "output_type": "stream",
          "text": [
            "[6 6 6 6 6 6 6 6 6 6 6 6]\n"
          ],
          "name": "stdout"
        }
      ]
    },
    {
      "cell_type": "markdown",
      "metadata": {
        "id": "JF-stS476zyN"
      },
      "source": [
        "**En Pandas**\n",
        "\n",
        "Supongamos que queremos seleccionar aquellas jurisdicciones cuya población sea mayor a un millón de habitantes. Podemos hacerlo de la siguiente forma:"
      ]
    },
    {
      "cell_type": "code",
      "metadata": {
        "id": "n-4Kms3i6zyN",
        "outputId": "5dae4f1f-9055-4160-df20-2d850cea3aea"
      },
      "source": [
        "data_pandas[data_pandas.Poblacion > 1000000]"
      ],
      "execution_count": null,
      "outputs": [
        {
          "output_type": "execute_result",
          "data": {
            "text/html": [
              "<div>\n",
              "<style scoped>\n",
              "    .dataframe tbody tr th:only-of-type {\n",
              "        vertical-align: middle;\n",
              "    }\n",
              "\n",
              "    .dataframe tbody tr th {\n",
              "        vertical-align: top;\n",
              "    }\n",
              "\n",
              "    .dataframe thead th {\n",
              "        text-align: right;\n",
              "    }\n",
              "</style>\n",
              "<table border=\"1\" class=\"dataframe\">\n",
              "  <thead>\n",
              "    <tr style=\"text-align: right;\">\n",
              "      <th></th>\n",
              "      <th>Jurisdiccion</th>\n",
              "      <th>Poblacion</th>\n",
              "      <th>Superficie</th>\n",
              "      <th>Densidad</th>\n",
              "    </tr>\n",
              "  </thead>\n",
              "  <tbody>\n",
              "    <tr>\n",
              "      <th>0</th>\n",
              "      <td>CABA</td>\n",
              "      <td>2890151</td>\n",
              "      <td>200</td>\n",
              "      <td>14450.755000</td>\n",
              "    </tr>\n",
              "    <tr>\n",
              "      <th>1</th>\n",
              "      <td>Buenos Aires</td>\n",
              "      <td>15625084</td>\n",
              "      <td>307521</td>\n",
              "      <td>50.809811</td>\n",
              "    </tr>\n",
              "    <tr>\n",
              "      <th>3</th>\n",
              "      <td>Chaco</td>\n",
              "      <td>1055259</td>\n",
              "      <td>99633</td>\n",
              "      <td>10.591461</td>\n",
              "    </tr>\n",
              "    <tr>\n",
              "      <th>5</th>\n",
              "      <td>Córdoba</td>\n",
              "      <td>3308876</td>\n",
              "      <td>165321</td>\n",
              "      <td>20.014856</td>\n",
              "    </tr>\n",
              "    <tr>\n",
              "      <th>7</th>\n",
              "      <td>Mendoza</td>\n",
              "      <td>1738929</td>\n",
              "      <td>148827</td>\n",
              "      <td>11.684231</td>\n",
              "    </tr>\n",
              "    <tr>\n",
              "      <th>8</th>\n",
              "      <td>Misiones</td>\n",
              "      <td>1101593</td>\n",
              "      <td>29801</td>\n",
              "      <td>36.964968</td>\n",
              "    </tr>\n",
              "    <tr>\n",
              "      <th>11</th>\n",
              "      <td>Santa Fe</td>\n",
              "      <td>3194537</td>\n",
              "      <td>133007</td>\n",
              "      <td>24.017811</td>\n",
              "    </tr>\n",
              "    <tr>\n",
              "      <th>13</th>\n",
              "      <td>Salta</td>\n",
              "      <td>1214441</td>\n",
              "      <td>155488</td>\n",
              "      <td>7.810513</td>\n",
              "    </tr>\n",
              "  </tbody>\n",
              "</table>\n",
              "</div>"
            ],
            "text/plain": [
              "    Jurisdiccion  Poblacion  Superficie      Densidad\n",
              "0           CABA    2890151         200  14450.755000\n",
              "1   Buenos Aires   15625084      307521     50.809811\n",
              "3          Chaco    1055259       99633     10.591461\n",
              "5        Córdoba    3308876      165321     20.014856\n",
              "7        Mendoza    1738929      148827     11.684231\n",
              "8       Misiones    1101593       29801     36.964968\n",
              "11      Santa Fe    3194537      133007     24.017811\n",
              "13         Salta    1214441      155488      7.810513"
            ]
          },
          "metadata": {
            "tags": []
          },
          "execution_count": 23
        }
      ]
    },
    {
      "cell_type": "markdown",
      "metadata": {
        "id": "MwpwdsUs6zyO"
      },
      "source": [
        "¿Y si queremos seleccionar aquellas jurisdicciones cuya población sea mayor a un millón de habitantes **y** su superficie menor a cien mil km2?"
      ]
    },
    {
      "cell_type": "code",
      "metadata": {
        "id": "6o95IWWc6zyO",
        "outputId": "428bdfec-7e93-4e87-dfe3-d2f1eb9bbe4a"
      },
      "source": [
        "mascara = np.logical_and(data_pandas.Poblacion > 1000000, data_pandas.Superficie < 100000)\n",
        "data_pandas[mascara]\n",
        "\n",
        "### Es equivalente\n",
        "# data_pandas[(data_pandas.Poblacion > 1000000) & (data_pandas.Superficie < 100000)]"
      ],
      "execution_count": null,
      "outputs": [
        {
          "output_type": "execute_result",
          "data": {
            "text/html": [
              "<div>\n",
              "<style scoped>\n",
              "    .dataframe tbody tr th:only-of-type {\n",
              "        vertical-align: middle;\n",
              "    }\n",
              "\n",
              "    .dataframe tbody tr th {\n",
              "        vertical-align: top;\n",
              "    }\n",
              "\n",
              "    .dataframe thead th {\n",
              "        text-align: right;\n",
              "    }\n",
              "</style>\n",
              "<table border=\"1\" class=\"dataframe\">\n",
              "  <thead>\n",
              "    <tr style=\"text-align: right;\">\n",
              "      <th></th>\n",
              "      <th>Jurisdiccion</th>\n",
              "      <th>Poblacion</th>\n",
              "      <th>Superficie</th>\n",
              "      <th>Densidad</th>\n",
              "    </tr>\n",
              "  </thead>\n",
              "  <tbody>\n",
              "    <tr>\n",
              "      <th>0</th>\n",
              "      <td>CABA</td>\n",
              "      <td>2890151</td>\n",
              "      <td>200</td>\n",
              "      <td>14450.755000</td>\n",
              "    </tr>\n",
              "    <tr>\n",
              "      <th>3</th>\n",
              "      <td>Chaco</td>\n",
              "      <td>1055259</td>\n",
              "      <td>99633</td>\n",
              "      <td>10.591461</td>\n",
              "    </tr>\n",
              "    <tr>\n",
              "      <th>8</th>\n",
              "      <td>Misiones</td>\n",
              "      <td>1101593</td>\n",
              "      <td>29801</td>\n",
              "      <td>36.964968</td>\n",
              "    </tr>\n",
              "  </tbody>\n",
              "</table>\n",
              "</div>"
            ],
            "text/plain": [
              "  Jurisdiccion  Poblacion  Superficie      Densidad\n",
              "0         CABA    2890151         200  14450.755000\n",
              "3        Chaco    1055259       99633     10.591461\n",
              "8     Misiones    1101593       29801     36.964968"
            ]
          },
          "metadata": {
            "tags": []
          },
          "execution_count": 24
        }
      ]
    },
    {
      "cell_type": "markdown",
      "metadata": {
        "id": "c8qdPb6q6zyP"
      },
      "source": [
        "**Ejercicio:** seleccionar aquellas jurisdicciones cuya población sea menor a 500 mil habitantes **o** su superficie mayor a cien mil km2."
      ]
    },
    {
      "cell_type": "code",
      "metadata": {
        "id": "E6tfmqQm6zyQ",
        "outputId": "29bad33c-3646-41f4-9c42-4ae321f8fefe"
      },
      "source": [
        "mascara = np.logical_and(data_pandas.Poblacion < 500000, data_pandas.Superficie > 100000)\n",
        "data_pandas[mascara]"
      ],
      "execution_count": null,
      "outputs": [
        {
          "output_type": "execute_result",
          "data": {
            "text/html": [
              "<div>\n",
              "<style scoped>\n",
              "    .dataframe tbody tr th:only-of-type {\n",
              "        vertical-align: middle;\n",
              "    }\n",
              "\n",
              "    .dataframe tbody tr th {\n",
              "        vertical-align: top;\n",
              "    }\n",
              "\n",
              "    .dataframe thead th {\n",
              "        text-align: right;\n",
              "    }\n",
              "</style>\n",
              "<table border=\"1\" class=\"dataframe\">\n",
              "  <thead>\n",
              "    <tr style=\"text-align: right;\">\n",
              "      <th></th>\n",
              "      <th>Jurisdiccion</th>\n",
              "      <th>Poblacion</th>\n",
              "      <th>Superficie</th>\n",
              "      <th>Densidad</th>\n",
              "    </tr>\n",
              "  </thead>\n",
              "  <tbody>\n",
              "    <tr>\n",
              "      <th>2</th>\n",
              "      <td>Catamarca</td>\n",
              "      <td>367828</td>\n",
              "      <td>102606</td>\n",
              "      <td>3.584859</td>\n",
              "    </tr>\n",
              "    <tr>\n",
              "      <th>10</th>\n",
              "      <td>Santa Cruz</td>\n",
              "      <td>273964</td>\n",
              "      <td>243943</td>\n",
              "      <td>1.123066</td>\n",
              "    </tr>\n",
              "  </tbody>\n",
              "</table>\n",
              "</div>"
            ],
            "text/plain": [
              "   Jurisdiccion  Poblacion  Superficie  Densidad\n",
              "2     Catamarca     367828      102606  3.584859\n",
              "10   Santa Cruz     273964      243943  1.123066"
            ]
          },
          "metadata": {
            "tags": []
          },
          "execution_count": 25
        }
      ]
    },
    {
      "cell_type": "markdown",
      "metadata": {
        "id": "idmbGfa86zyQ"
      },
      "source": [
        "## 2.3 Iris dataset\n",
        "\n",
        "¿Pero siempre vamos a tener que crear un diccionario y luego pasarlo a un Data Frame? Evidentemente, esta opción no parece muy cómoda, en particular para conjuntos de datos de gran volumen. Veamos cómo trabajamos con un conjunto de datos preexistente.\n",
        "\n",
        "\n",
        "**Aviso**: Esta sección es, en realidad, un ejercicio. Para hacerlo, debes ir googleando y consultando la documentación que consideres apropiada. Obviamente, también puedes consultar a tu mentor/a.\n",
        "\n",
        "Vamos a trabajar con el Iris Dataset, probablemente uno de los conjuntos de datos más famosos, ya que muchos ejemplos se realizan con él. Es un dataset sencillo pero ilustrativo.\n",
        "\n",
        "\n",
        "1. Abrir con Pandas el archivo 'DS_Bitácora_04_iris.csv' (¿Qué tipo de archivo es?) e imprimir sus primeros cinco elementos. Pista: `pd.read...()`."
      ]
    },
    {
      "cell_type": "code",
      "metadata": {
        "id": "8n-I82ye6zyQ",
        "outputId": "fb74938c-9011-4f69-ff33-3c74b9cb98eb"
      },
      "source": [
        "data = pd.read_csv('DS_Bitácora_04_Iris.csv')\n",
        "data.head()"
      ],
      "execution_count": null,
      "outputs": [
        {
          "output_type": "execute_result",
          "data": {
            "text/html": [
              "<div>\n",
              "<style scoped>\n",
              "    .dataframe tbody tr th:only-of-type {\n",
              "        vertical-align: middle;\n",
              "    }\n",
              "\n",
              "    .dataframe tbody tr th {\n",
              "        vertical-align: top;\n",
              "    }\n",
              "\n",
              "    .dataframe thead th {\n",
              "        text-align: right;\n",
              "    }\n",
              "</style>\n",
              "<table border=\"1\" class=\"dataframe\">\n",
              "  <thead>\n",
              "    <tr style=\"text-align: right;\">\n",
              "      <th></th>\n",
              "      <th>Id</th>\n",
              "      <th>SepalLengthCm</th>\n",
              "      <th>SepalWidthCm</th>\n",
              "      <th>PetalLengthCm</th>\n",
              "      <th>PetalWidthCm</th>\n",
              "      <th>Species</th>\n",
              "    </tr>\n",
              "  </thead>\n",
              "  <tbody>\n",
              "    <tr>\n",
              "      <th>0</th>\n",
              "      <td>1</td>\n",
              "      <td>5.1</td>\n",
              "      <td>3.5</td>\n",
              "      <td>1.4</td>\n",
              "      <td>0.2</td>\n",
              "      <td>Iris-setosa</td>\n",
              "    </tr>\n",
              "    <tr>\n",
              "      <th>1</th>\n",
              "      <td>2</td>\n",
              "      <td>4.9</td>\n",
              "      <td>3.0</td>\n",
              "      <td>1.4</td>\n",
              "      <td>0.2</td>\n",
              "      <td>Iris-setosa</td>\n",
              "    </tr>\n",
              "    <tr>\n",
              "      <th>2</th>\n",
              "      <td>3</td>\n",
              "      <td>4.7</td>\n",
              "      <td>3.2</td>\n",
              "      <td>1.3</td>\n",
              "      <td>0.2</td>\n",
              "      <td>Iris-setosa</td>\n",
              "    </tr>\n",
              "    <tr>\n",
              "      <th>3</th>\n",
              "      <td>4</td>\n",
              "      <td>4.6</td>\n",
              "      <td>3.1</td>\n",
              "      <td>1.5</td>\n",
              "      <td>0.2</td>\n",
              "      <td>Iris-setosa</td>\n",
              "    </tr>\n",
              "    <tr>\n",
              "      <th>4</th>\n",
              "      <td>5</td>\n",
              "      <td>5.0</td>\n",
              "      <td>3.6</td>\n",
              "      <td>1.4</td>\n",
              "      <td>0.2</td>\n",
              "      <td>Iris-setosa</td>\n",
              "    </tr>\n",
              "  </tbody>\n",
              "</table>\n",
              "</div>"
            ],
            "text/plain": [
              "   Id  SepalLengthCm  SepalWidthCm  PetalLengthCm  PetalWidthCm      Species\n",
              "0   1            5.1           3.5            1.4           0.2  Iris-setosa\n",
              "1   2            4.9           3.0            1.4           0.2  Iris-setosa\n",
              "2   3            4.7           3.2            1.3           0.2  Iris-setosa\n",
              "3   4            4.6           3.1            1.5           0.2  Iris-setosa\n",
              "4   5            5.0           3.6            1.4           0.2  Iris-setosa"
            ]
          },
          "metadata": {
            "tags": []
          },
          "execution_count": 26
        }
      ]
    },
    {
      "cell_type": "markdown",
      "metadata": {
        "id": "k1Qz82t86zyR"
      },
      "source": [
        "2. ¿Cuántas columnas (features) tiene?¿Cuáles son sus nombres?¿Y cuántas filas (instancias)? Pistas: `shape`, `columns`."
      ]
    },
    {
      "cell_type": "code",
      "metadata": {
        "id": "4IPRiocM6zyR",
        "outputId": "cb46d041-d6cd-4f8e-dbdd-22d08ee0519e"
      },
      "source": [
        "print(data.shape)\n",
        "print(data.columns)"
      ],
      "execution_count": null,
      "outputs": [
        {
          "output_type": "stream",
          "text": [
            "(150, 6)\n",
            "Index(['Id', 'SepalLengthCm', 'SepalWidthCm', 'PetalLengthCm', 'PetalWidthCm',\n",
            "       'Species'],\n",
            "      dtype='object')\n"
          ],
          "name": "stdout"
        }
      ]
    },
    {
      "cell_type": "markdown",
      "metadata": {
        "id": "MxLRAzEF6zyR"
      },
      "source": [
        "3. Obtener el valor medio y desviación estándar de cada columna. ¿Hay alguna función de Pandas que nos dé aún más estadísticos? Pistas: `describe`."
      ]
    },
    {
      "cell_type": "code",
      "metadata": {
        "id": "YEMUGlx76zyR",
        "outputId": "9c9e5b3f-0b0c-49ef-9c2d-9622e5dfa346"
      },
      "source": [
        "# data.mean()\n",
        "# data.std()\n",
        "data.describe()"
      ],
      "execution_count": null,
      "outputs": [
        {
          "output_type": "execute_result",
          "data": {
            "text/html": [
              "<div>\n",
              "<style scoped>\n",
              "    .dataframe tbody tr th:only-of-type {\n",
              "        vertical-align: middle;\n",
              "    }\n",
              "\n",
              "    .dataframe tbody tr th {\n",
              "        vertical-align: top;\n",
              "    }\n",
              "\n",
              "    .dataframe thead th {\n",
              "        text-align: right;\n",
              "    }\n",
              "</style>\n",
              "<table border=\"1\" class=\"dataframe\">\n",
              "  <thead>\n",
              "    <tr style=\"text-align: right;\">\n",
              "      <th></th>\n",
              "      <th>Id</th>\n",
              "      <th>SepalLengthCm</th>\n",
              "      <th>SepalWidthCm</th>\n",
              "      <th>PetalLengthCm</th>\n",
              "      <th>PetalWidthCm</th>\n",
              "    </tr>\n",
              "  </thead>\n",
              "  <tbody>\n",
              "    <tr>\n",
              "      <th>count</th>\n",
              "      <td>150.000000</td>\n",
              "      <td>150.000000</td>\n",
              "      <td>150.000000</td>\n",
              "      <td>150.000000</td>\n",
              "      <td>150.000000</td>\n",
              "    </tr>\n",
              "    <tr>\n",
              "      <th>mean</th>\n",
              "      <td>75.500000</td>\n",
              "      <td>5.843333</td>\n",
              "      <td>3.054000</td>\n",
              "      <td>3.758667</td>\n",
              "      <td>1.198667</td>\n",
              "    </tr>\n",
              "    <tr>\n",
              "      <th>std</th>\n",
              "      <td>43.445368</td>\n",
              "      <td>0.828066</td>\n",
              "      <td>0.433594</td>\n",
              "      <td>1.764420</td>\n",
              "      <td>0.763161</td>\n",
              "    </tr>\n",
              "    <tr>\n",
              "      <th>min</th>\n",
              "      <td>1.000000</td>\n",
              "      <td>4.300000</td>\n",
              "      <td>2.000000</td>\n",
              "      <td>1.000000</td>\n",
              "      <td>0.100000</td>\n",
              "    </tr>\n",
              "    <tr>\n",
              "      <th>25%</th>\n",
              "      <td>38.250000</td>\n",
              "      <td>5.100000</td>\n",
              "      <td>2.800000</td>\n",
              "      <td>1.600000</td>\n",
              "      <td>0.300000</td>\n",
              "    </tr>\n",
              "    <tr>\n",
              "      <th>50%</th>\n",
              "      <td>75.500000</td>\n",
              "      <td>5.800000</td>\n",
              "      <td>3.000000</td>\n",
              "      <td>4.350000</td>\n",
              "      <td>1.300000</td>\n",
              "    </tr>\n",
              "    <tr>\n",
              "      <th>75%</th>\n",
              "      <td>112.750000</td>\n",
              "      <td>6.400000</td>\n",
              "      <td>3.300000</td>\n",
              "      <td>5.100000</td>\n",
              "      <td>1.800000</td>\n",
              "    </tr>\n",
              "    <tr>\n",
              "      <th>max</th>\n",
              "      <td>150.000000</td>\n",
              "      <td>7.900000</td>\n",
              "      <td>4.400000</td>\n",
              "      <td>6.900000</td>\n",
              "      <td>2.500000</td>\n",
              "    </tr>\n",
              "  </tbody>\n",
              "</table>\n",
              "</div>"
            ],
            "text/plain": [
              "               Id  SepalLengthCm  SepalWidthCm  PetalLengthCm  PetalWidthCm\n",
              "count  150.000000     150.000000    150.000000     150.000000    150.000000\n",
              "mean    75.500000       5.843333      3.054000       3.758667      1.198667\n",
              "std     43.445368       0.828066      0.433594       1.764420      0.763161\n",
              "min      1.000000       4.300000      2.000000       1.000000      0.100000\n",
              "25%     38.250000       5.100000      2.800000       1.600000      0.300000\n",
              "50%     75.500000       5.800000      3.000000       4.350000      1.300000\n",
              "75%    112.750000       6.400000      3.300000       5.100000      1.800000\n",
              "max    150.000000       7.900000      4.400000       6.900000      2.500000"
            ]
          },
          "metadata": {
            "tags": []
          },
          "execution_count": 28
        }
      ]
    },
    {
      "cell_type": "markdown",
      "metadata": {
        "id": "hdZFk6aW6zyS"
      },
      "source": [
        "4. ¿Creen que todas las columnas tienen información? *Tirar* la columna que crean que está demás. Dependiendo de la función que uses - hay más de una opción -, tal vez tengas que prestar **mucha** atención al argumento `inplace`. Pista: `drop`, `del`."
      ]
    },
    {
      "cell_type": "code",
      "metadata": {
        "id": "oh2F5T-L6zyS",
        "outputId": "c8d5510d-4070-4519-d8f7-11c4fb8255cc"
      },
      "source": [
        "data.drop(columns = 'Id', inplace = True)\n",
        "data.head()"
      ],
      "execution_count": null,
      "outputs": [
        {
          "output_type": "execute_result",
          "data": {
            "text/html": [
              "<div>\n",
              "<style scoped>\n",
              "    .dataframe tbody tr th:only-of-type {\n",
              "        vertical-align: middle;\n",
              "    }\n",
              "\n",
              "    .dataframe tbody tr th {\n",
              "        vertical-align: top;\n",
              "    }\n",
              "\n",
              "    .dataframe thead th {\n",
              "        text-align: right;\n",
              "    }\n",
              "</style>\n",
              "<table border=\"1\" class=\"dataframe\">\n",
              "  <thead>\n",
              "    <tr style=\"text-align: right;\">\n",
              "      <th></th>\n",
              "      <th>SepalLengthCm</th>\n",
              "      <th>SepalWidthCm</th>\n",
              "      <th>PetalLengthCm</th>\n",
              "      <th>PetalWidthCm</th>\n",
              "      <th>Species</th>\n",
              "    </tr>\n",
              "  </thead>\n",
              "  <tbody>\n",
              "    <tr>\n",
              "      <th>0</th>\n",
              "      <td>5.1</td>\n",
              "      <td>3.5</td>\n",
              "      <td>1.4</td>\n",
              "      <td>0.2</td>\n",
              "      <td>Iris-setosa</td>\n",
              "    </tr>\n",
              "    <tr>\n",
              "      <th>1</th>\n",
              "      <td>4.9</td>\n",
              "      <td>3.0</td>\n",
              "      <td>1.4</td>\n",
              "      <td>0.2</td>\n",
              "      <td>Iris-setosa</td>\n",
              "    </tr>\n",
              "    <tr>\n",
              "      <th>2</th>\n",
              "      <td>4.7</td>\n",
              "      <td>3.2</td>\n",
              "      <td>1.3</td>\n",
              "      <td>0.2</td>\n",
              "      <td>Iris-setosa</td>\n",
              "    </tr>\n",
              "    <tr>\n",
              "      <th>3</th>\n",
              "      <td>4.6</td>\n",
              "      <td>3.1</td>\n",
              "      <td>1.5</td>\n",
              "      <td>0.2</td>\n",
              "      <td>Iris-setosa</td>\n",
              "    </tr>\n",
              "    <tr>\n",
              "      <th>4</th>\n",
              "      <td>5.0</td>\n",
              "      <td>3.6</td>\n",
              "      <td>1.4</td>\n",
              "      <td>0.2</td>\n",
              "      <td>Iris-setosa</td>\n",
              "    </tr>\n",
              "  </tbody>\n",
              "</table>\n",
              "</div>"
            ],
            "text/plain": [
              "   SepalLengthCm  SepalWidthCm  PetalLengthCm  PetalWidthCm      Species\n",
              "0            5.1           3.5            1.4           0.2  Iris-setosa\n",
              "1            4.9           3.0            1.4           0.2  Iris-setosa\n",
              "2            4.7           3.2            1.3           0.2  Iris-setosa\n",
              "3            4.6           3.1            1.5           0.2  Iris-setosa\n",
              "4            5.0           3.6            1.4           0.2  Iris-setosa"
            ]
          },
          "metadata": {
            "tags": []
          },
          "execution_count": 29
        }
      ]
    },
    {
      "cell_type": "code",
      "metadata": {
        "id": "Vcr-H1AK6zyS"
      },
      "source": [
        ""
      ],
      "execution_count": null,
      "outputs": []
    }
  ]
}
{
  "nbformat": 4,
  "nbformat_minor": 0,
  "metadata": {
    "kernelspec": {
      "display_name": "Python 3",
      "language": "python",
      "name": "python3"
    },
    "language_info": {
      "codemirror_mode": {
        "name": "ipython",
        "version": 3
      },
      "file_extension": ".py",
      "mimetype": "text/x-python",
      "name": "python",
      "nbconvert_exporter": "python",
      "pygments_lexer": "ipython3",
      "version": "3.7.3"
    },
    "colab": {
      "name": "DS - Toolbox 09_ Funciones_RESUELTO.ipynb",
      "provenance": []
    }
  },
  "cells": [
    {
      "cell_type": "markdown",
      "metadata": {
        "id": "HUBv-xsDvHai"
      },
      "source": [
        "# Funciones y Namespaces\n",
        "\n",
        "\n",
        "## 1. Funciones\n",
        "\n",
        "Una función es un bloque de código que sólo corre cuando es llamado."
      ]
    },
    {
      "cell_type": "code",
      "metadata": {
        "id": "7FHHTV5yvHan"
      },
      "source": [
        "def par_o_impar(numero):\n",
        "    if numero %2 == 0:\n",
        "        print('Es par')\n",
        "    else:\n",
        "        print('Es impar')"
      ],
      "execution_count": null,
      "outputs": []
    },
    {
      "cell_type": "markdown",
      "metadata": {
        "id": "LS7H9SIJvHas"
      },
      "source": [
        "Notar que si ejecutamos la celda no ocurre nada apreciable. Si llamamos a la función"
      ]
    },
    {
      "cell_type": "code",
      "metadata": {
        "id": "Yhr2zfsBvHau",
        "outputId": "0d853f9b-9252-4ef9-c178-1497c1cd854e"
      },
      "source": [
        "par_o_impar"
      ],
      "execution_count": null,
      "outputs": [
        {
          "output_type": "execute_result",
          "data": {
            "text/plain": [
              "<function __main__.par_o_impar(numero)>"
            ]
          },
          "metadata": {
            "tags": []
          },
          "execution_count": 2
        }
      ]
    },
    {
      "cell_type": "markdown",
      "metadata": {
        "id": "hBSO50F8vHaz"
      },
      "source": [
        "Python nos dice, de una forma no muy clara, que se trata de una función. Las funciones se llaman con paréntesis:"
      ]
    },
    {
      "cell_type": "code",
      "metadata": {
        "id": "l-Sf39EUvHa0",
        "outputId": "ad579cd2-89b4-420a-e447-b947f9f6ea3d"
      },
      "source": [
        "par_o_impar()"
      ],
      "execution_count": null,
      "outputs": [
        {
          "output_type": "error",
          "ename": "TypeError",
          "evalue": "par_o_impar() missing 1 required positional argument: 'numero'",
          "traceback": [
            "\u001b[0;31m---------------------------------------------------------------------------\u001b[0m",
            "\u001b[0;31mTypeError\u001b[0m                                 Traceback (most recent call last)",
            "\u001b[0;32m<ipython-input-3-d9b36f92d792>\u001b[0m in \u001b[0;36m<module>\u001b[0;34m\u001b[0m\n\u001b[0;32m----> 1\u001b[0;31m \u001b[0mpar_o_impar\u001b[0m\u001b[0;34m(\u001b[0m\u001b[0;34m)\u001b[0m\u001b[0;34m\u001b[0m\u001b[0;34m\u001b[0m\u001b[0m\n\u001b[0m",
            "\u001b[0;31mTypeError\u001b[0m: par_o_impar() missing 1 required positional argument: 'numero'"
          ]
        }
      ]
    },
    {
      "cell_type": "markdown",
      "metadata": {
        "id": "_GQ1uePivHa2"
      },
      "source": [
        "Y en este caso, arroja un error porque falta un argumento, `numero`. Las dos siguientes son equivalentes:"
      ]
    },
    {
      "cell_type": "code",
      "metadata": {
        "id": "xgcDDLb8vHa3",
        "outputId": "6aa9f559-29b0-4581-b9b8-6ce312c566fc"
      },
      "source": [
        "par_o_impar(numero = 9)\n",
        "par_o_impar(9)"
      ],
      "execution_count": null,
      "outputs": [
        {
          "output_type": "stream",
          "text": [
            "Es impar\n",
            "Es impar\n"
          ],
          "name": "stdout"
        }
      ]
    },
    {
      "cell_type": "markdown",
      "metadata": {
        "id": "A7Fm62bqvHa5"
      },
      "source": [
        "Al tener un solo argumento, en este caso no hay mucho lugar a confusión, pero las funciones pueden tener muchos argumentos:"
      ]
    },
    {
      "cell_type": "code",
      "metadata": {
        "id": "GdOckKypvHa6"
      },
      "source": [
        "def division(dividendo, divisor):\n",
        "    print(dividendo/divisor)"
      ],
      "execution_count": null,
      "outputs": []
    },
    {
      "cell_type": "markdown",
      "metadata": {
        "id": "zIznzbqbvHa7"
      },
      "source": [
        "Entonces podemos llamar a la función pasándole los argumentos en orden, o explicitando el valor de cada argumento:"
      ]
    },
    {
      "cell_type": "code",
      "metadata": {
        "id": "gzQddeqQvHa9",
        "outputId": "e86d4722-25a5-44ef-b79a-0b8800eb0740"
      },
      "source": [
        "division(4,2)\n",
        "division(divisor = 4, dividendo = 2)  #notar que asi no nos tenemos que preocupar por el orden"
      ],
      "execution_count": null,
      "outputs": [
        {
          "output_type": "stream",
          "text": [
            "2.0\n",
            "0.5\n"
          ],
          "name": "stdout"
        }
      ]
    },
    {
      "cell_type": "markdown",
      "metadata": {
        "id": "fUHOdl4CvHa-"
      },
      "source": [
        "También, pueden tener argumentos *por default*, que si no explicitamos, toman un valor predefinido:"
      ]
    },
    {
      "cell_type": "code",
      "metadata": {
        "id": "zEnFIsDcvHa_"
      },
      "source": [
        "def division(dividendo, divisor = 2):\n",
        "    print(dividendo/divisor)"
      ],
      "execution_count": null,
      "outputs": []
    },
    {
      "cell_type": "code",
      "metadata": {
        "id": "7YOoHTEMvHbA",
        "outputId": "c04a3470-e5c3-443f-bbfa-82edd4d4fbd6"
      },
      "source": [
        "division(9)\n",
        "division(9, 3) \n",
        "division(dividendo = 9, divisor = 3) \n",
        "division(9, divisor = 3) "
      ],
      "execution_count": null,
      "outputs": [
        {
          "output_type": "stream",
          "text": [
            "4.5\n",
            "3.0\n",
            "3.0\n",
            "3.0\n"
          ],
          "name": "stdout"
        }
      ]
    },
    {
      "cell_type": "markdown",
      "metadata": {
        "id": "CKlMxBxVvHbC"
      },
      "source": [
        "### 1.1 `return`\n",
        "\n",
        "Las funciones pueden devolver resultados"
      ]
    },
    {
      "cell_type": "code",
      "metadata": {
        "id": "oAhRXT06vHbD"
      },
      "source": [
        "def division(dividendo, divisor = 2):\n",
        "    variable_auxiliar = dividendo/divisor\n",
        "    return variable_auxiliar"
      ],
      "execution_count": null,
      "outputs": []
    },
    {
      "cell_type": "code",
      "metadata": {
        "id": "WYlLvPKsvHbE"
      },
      "source": [
        "resultado_division = division(9,3)"
      ],
      "execution_count": null,
      "outputs": []
    },
    {
      "cell_type": "code",
      "metadata": {
        "id": "hjj4cCU0vHbF",
        "outputId": "c40a36fa-f312-4a9e-f00c-33184a8f0a91"
      },
      "source": [
        "print(resultado_division)"
      ],
      "execution_count": null,
      "outputs": [
        {
          "output_type": "stream",
          "text": [
            "3.0\n"
          ],
          "name": "stdout"
        }
      ]
    },
    {
      "cell_type": "markdown",
      "metadata": {
        "id": "3I-Zbw05vHbG"
      },
      "source": [
        "Y, si lo necesitamos, podemos hacer que devuelvan más de un resultado"
      ]
    },
    {
      "cell_type": "code",
      "metadata": {
        "id": "EEfWbY7hvHbG"
      },
      "source": [
        "def division_y_producto(numero_1,numero_2):\n",
        "    div = numero_1/numero_2\n",
        "    prod = numero_1*numero_2\n",
        "    return div, prod\n",
        "\n",
        "### Son equivalentes\n",
        "# def division_y_producto(numero_1,numero_2):\n",
        "#     return numero_1/numero_2, numero_1*numero_2"
      ],
      "execution_count": null,
      "outputs": []
    },
    {
      "cell_type": "code",
      "metadata": {
        "id": "T7msyRiRvHbH",
        "outputId": "58e244b9-914a-4c53-c8ff-a238743fd43e"
      },
      "source": [
        "resultados = division_y_producto(10,5)\n",
        "print(resultados)"
      ],
      "execution_count": null,
      "outputs": [
        {
          "output_type": "stream",
          "text": [
            "(2.0, 50)\n"
          ],
          "name": "stdout"
        }
      ]
    },
    {
      "cell_type": "markdown",
      "metadata": {
        "id": "vu5U6m6MvHbI"
      },
      "source": [
        "Notar la diferencia"
      ]
    },
    {
      "cell_type": "code",
      "metadata": {
        "id": "wdaojGCOvHbI",
        "outputId": "56a22f61-5eb1-4774-bb02-968a1d8b165e"
      },
      "source": [
        "resultado_1, resultado_2 = division_y_producto(10,5)\n",
        "print(resultado_1, resultado_2)"
      ],
      "execution_count": null,
      "outputs": [
        {
          "output_type": "stream",
          "text": [
            "2.0 50\n"
          ],
          "name": "stdout"
        }
      ]
    },
    {
      "cell_type": "markdown",
      "metadata": {
        "id": "hKcAgfLPvHbJ"
      },
      "source": [
        "### 2. Namespaces and Scope\n",
        "\n",
        "Encontrar la diferencia entre las siguientes celdas:"
      ]
    },
    {
      "cell_type": "code",
      "metadata": {
        "id": "z0EztON1vHbK",
        "outputId": "3c46d979-7b53-4ac1-d993-907066df56b7"
      },
      "source": [
        "def division(dividendo, divisor = 2):\n",
        "    variable_auxiliar = dividendo/divisor\n",
        "    return variable_auxiliar\n",
        "print(division(50))\n",
        "print(divisor)"
      ],
      "execution_count": null,
      "outputs": [
        {
          "output_type": "stream",
          "text": [
            "25.0\n"
          ],
          "name": "stdout"
        },
        {
          "output_type": "error",
          "ename": "NameError",
          "evalue": "name 'divisor' is not defined",
          "traceback": [
            "\u001b[0;31m---------------------------------------------------------------------------\u001b[0m",
            "\u001b[0;31mNameError\u001b[0m                                 Traceback (most recent call last)",
            "\u001b[0;32m<ipython-input-15-28655831cd39>\u001b[0m in \u001b[0;36m<module>\u001b[0;34m\u001b[0m\n\u001b[1;32m      3\u001b[0m     \u001b[0;32mreturn\u001b[0m \u001b[0mvariable_auxiliar\u001b[0m\u001b[0;34m\u001b[0m\u001b[0;34m\u001b[0m\u001b[0m\n\u001b[1;32m      4\u001b[0m \u001b[0mprint\u001b[0m\u001b[0;34m(\u001b[0m\u001b[0mdivision\u001b[0m\u001b[0;34m(\u001b[0m\u001b[0;36m50\u001b[0m\u001b[0;34m)\u001b[0m\u001b[0;34m)\u001b[0m\u001b[0;34m\u001b[0m\u001b[0;34m\u001b[0m\u001b[0m\n\u001b[0;32m----> 5\u001b[0;31m \u001b[0mprint\u001b[0m\u001b[0;34m(\u001b[0m\u001b[0mdivisor\u001b[0m\u001b[0;34m)\u001b[0m\u001b[0;34m\u001b[0m\u001b[0;34m\u001b[0m\u001b[0m\n\u001b[0m",
            "\u001b[0;31mNameError\u001b[0m: name 'divisor' is not defined"
          ]
        }
      ]
    },
    {
      "cell_type": "code",
      "metadata": {
        "id": "4ZcO6PeFvHbK",
        "outputId": "deafa213-fadc-4659-e1ee-f37536463627"
      },
      "source": [
        "divisor = 5\n",
        "def division(dividendo):\n",
        "    variable_auxiliar = dividendo/divisor\n",
        "    return variable_auxiliar\n",
        "print(division(50))\n",
        "print(divisor)"
      ],
      "execution_count": null,
      "outputs": [
        {
          "output_type": "stream",
          "text": [
            "10.0\n",
            "5\n"
          ],
          "name": "stdout"
        }
      ]
    },
    {
      "cell_type": "code",
      "metadata": {
        "id": "OpCga5IhvHbL",
        "outputId": "57cb7a81-2211-4814-e3a3-83410cd87e72"
      },
      "source": [
        "divisor = 5\n",
        "def division(dividendo, divisor = 2):\n",
        "    variable_auxiliar = dividendo/divisor\n",
        "    return variable_auxiliar\n",
        "print(division(50))\n",
        "print(divisor)"
      ],
      "execution_count": null,
      "outputs": [
        {
          "output_type": "stream",
          "text": [
            "25.0\n",
            "5\n"
          ],
          "name": "stdout"
        }
      ]
    },
    {
      "cell_type": "markdown",
      "metadata": {
        "id": "oI26Dpr9vHbM"
      },
      "source": [
        "**Investigar:** ¿qué es una variable global?¿Y una variable loca?¿Qué es un Namespace?"
      ]
    },
    {
      "cell_type": "markdown",
      "metadata": {
        "id": "jIqFyD0yvHbN"
      },
      "source": [
        "### 3. Funciones Lambda (Anónimas)\n",
        "\n",
        "Una función `lambda` es una forma conveniente de crear una función en una sola línea. También se las conoce como funciones anónimas, ya que no suelen tener nombre."
      ]
    },
    {
      "cell_type": "code",
      "metadata": {
        "id": "Zv-hRZzyvHbN",
        "outputId": "579e4dc6-cffc-4199-e64c-ce484ece0805"
      },
      "source": [
        "lambda_division = lambda x,y: x/y\n",
        "lambda_division(80,10)"
      ],
      "execution_count": null,
      "outputs": [
        {
          "output_type": "execute_result",
          "data": {
            "text/plain": [
              "8.0"
            ]
          },
          "metadata": {
            "tags": []
          },
          "execution_count": 18
        }
      ]
    },
    {
      "cell_type": "markdown",
      "metadata": {
        "id": "7uz7BUR_vHbO"
      },
      "source": [
        "Algunas características:\n",
        "1. Pueden tener cualquier cantidad de argumentos, pero solo una expresión\n",
        "1. No se les suele poner nombre como hicimos, de hecho es raro utilizarlas de esa forma.\n",
        "1. No necesitan un `return`\n",
        "1. Muy cómodas para crear funciones rápido.\n",
        "1. En general, las veras combinadas con funciones como `map()`, `filter()`, `apply()`, `applymap()`, etc.\n",
        "\n",
        "Existen algunas diferencias sutiles entre una función creada con `def` y una función lambda, pero para nuestros objetivos basta con saber que una función lambda es una forma rápida de crear funciones sencillas."
      ]
    },
    {
      "cell_type": "markdown",
      "metadata": {
        "id": "Epe48f8UvHbP"
      },
      "source": [
        "### 4. Documentando funciones\n",
        "\n",
        "Cuando creemos funciones es conveniente documentarlas, así si volvemos meses después a nuestro código, o se lo compartimos a alguien, podemos entender qué hace sin tener que leer y entenderlo completamente. Es decir, de la misma forma que hacemos con muchas de las funciones de las librerías que venimos usando. Hay muchos formatos para documentar una función, pero en general incluyen: qué hace la función, cuales son sus argumentos, y cuáles son sus returns. A veces, también algún ejemplo mostrando cómo se usa. El grado de detalle depende del tiempo y de la complejidad de la función. Recomendamos siempre documentar las funciones, aunque sea de forma breve.\n",
        "\n",
        "Dejamos un formato de documentación a modo de ejemplo. En general, se estila documentar en inglés, pero vamos a hacer una excepción."
      ]
    },
    {
      "cell_type": "code",
      "metadata": {
        "id": "EG1PTk3-vHbP"
      },
      "source": [
        "def division_y_producto(numero_1,numero_2):\n",
        "    '''\n",
        "    Dados dos numeros, devuelve su division\n",
        "    y su producto.\n",
        "    \n",
        "    Arguments:\n",
        "    numero_1 -- dividendo, primer multiplicando\n",
        "    numero_2 -- divisor, segundo multiplicando\n",
        "    \n",
        "    Returns:\n",
        "    div -- la division entre los dos numeros\n",
        "    prod -- el producto entre los dos numeros\n",
        "    '''\n",
        "    \n",
        "    div = numero_1/numero_2\n",
        "    prod = numero_1*numero_2\n",
        "    return div, prod"
      ],
      "execution_count": null,
      "outputs": []
    },
    {
      "cell_type": "markdown",
      "metadata": {
        "id": "DttUL0dDvHbQ"
      },
      "source": [
        "Notar que si ahora ponemos `help()` de nuestra función, devuelve la documentación que creamos."
      ]
    },
    {
      "cell_type": "code",
      "metadata": {
        "id": "qrSI-dOyvHbR",
        "outputId": "8c2dbf92-9905-43bb-9c6f-096295b9cee2"
      },
      "source": [
        "help(division_y_producto)"
      ],
      "execution_count": null,
      "outputs": [
        {
          "output_type": "stream",
          "text": [
            "Help on function division_y_producto in module __main__:\n",
            "\n",
            "division_y_producto(numero_1, numero_2)\n",
            "    Dados dos numeros, devuelve su division\n",
            "    y su producto.\n",
            "    \n",
            "    Arguments:\n",
            "    numero_1 -- dividendo, primer multiplicando\n",
            "    numero_2 -- divisor, segundo multiplicando\n",
            "    \n",
            "    Returns:\n",
            "    div -- la division entre los dos numeros\n",
            "    prod -- el producto entre los dos numeros\n",
            "\n"
          ],
          "name": "stdout"
        }
      ]
    },
    {
      "cell_type": "markdown",
      "metadata": {
        "id": "e9qvs45qvHbS"
      },
      "source": [
        "También, si usamos shift+tab como hacemos con las otras funciones de las librerías."
      ]
    },
    {
      "cell_type": "markdown",
      "metadata": {
        "id": "ueVEnyFtvHbT"
      },
      "source": [
        "### Challenge\n",
        "\n",
        "1. Crea una función que tome como entrada dos arreglos de Numpy. Luego, que chequee si tienen el mismo tamaño; si no es así, que imprima un mensaje indicando que no tienen el mismo tamaño. Si tienen el mismo tamaño, que haga las siguientes operaciones:\n",
        "    1. Crear un nuevo arreglo con el resultado de las resta de los dos arreglos originales.\n",
        "    1. Elevar al cuadrado ese arreglo.\n",
        "    1. Sumar todos los elementos y dividir por la cantidad de elementos.\n",
        "    1. Devuelva la raiz de ese resultado.\n"
      ]
    },
    {
      "cell_type": "code",
      "metadata": {
        "id": "wrecaZq7vHbU"
      },
      "source": [
        "import numpy as np\n",
        "\n",
        "def RMSE(arreglo_1, arreglo_2):\n",
        "    if arreglo_1.size == arreglo_2.size:\n",
        "        resta = (arreglo_1 - arreglo_2)**2\n",
        "        suma = resta.sum()/resta.size\n",
        "        return np.sqrt(suma)\n",
        "    else:\n",
        "        print('Error: no tienen el mismo tamaño')"
      ],
      "execution_count": null,
      "outputs": []
    },
    {
      "cell_type": "markdown",
      "metadata": {
        "id": "cpGIEN7QvHbU"
      },
      "source": [
        "Testeamos el resultados"
      ]
    },
    {
      "cell_type": "code",
      "metadata": {
        "id": "lKGswmkNvHbV",
        "outputId": "05b6f3b5-13bf-44ea-eca0-1be89db06625"
      },
      "source": [
        "np.random.seed(10)  # que hace esta linea?\n",
        "arreglo_1 = np.random.randint(-10,10, 50)\n",
        "arreglo_2 = np.random.randint(-10,10, 50)\n",
        "print(arreglo_1)\n",
        "print(arreglo_2)"
      ],
      "execution_count": null,
      "outputs": [
        {
          "output_type": "stream",
          "text": [
            "[ -1  -6   5 -10   7   6   7  -2  -1 -10   0  -2  -6   9   6  -6   5   1\n",
            "   1  -9  -2  -6   4   7   9   3  -5   3   9   3   2  -9  -6   8   3   1\n",
            "   0  -1   5   8   6  -3   1   7   4  -3   1  -9 -10   2]\n",
            "[ -5  -6  -3   8   2  -8  -2   5   3   5  -4   0   1   6   2 -10   7   5\n",
            "   2  -2   0   3   1  -9   8   3  -2  -1  -5 -10   8  -7   6   8   6   4\n",
            "   9   5   9   7   8   4   6   0   7 -10   7  -1   6  -1]\n"
          ],
          "name": "stdout"
        }
      ]
    },
    {
      "cell_type": "code",
      "metadata": {
        "id": "MlrnfpgQvHbV",
        "outputId": "1112b002-c1f3-4cd6-b21d-eed4e77cf71a"
      },
      "source": [
        "RMSE(arreglo_1, arreglo_2)"
      ],
      "execution_count": null,
      "outputs": [
        {
          "output_type": "execute_result",
          "data": {
            "text/plain": [
              "7.487322618933954"
            ]
          },
          "metadata": {
            "tags": []
          },
          "execution_count": 23
        }
      ]
    },
    {
      "cell_type": "markdown",
      "metadata": {
        "id": "caISMmGcvHbW"
      },
      "source": [
        "Debería dar como resultado 7.48732"
      ]
    },
    {
      "cell_type": "code",
      "metadata": {
        "id": "Kflax0C-vHbX",
        "outputId": "5f030af0-ef05-4c3e-ae96-c4ee4f3386b5"
      },
      "source": [
        "np.random.seed(10)  # que hace esta linea?\n",
        "arreglo_1 = np.random.randint(-10,10, 25)\n",
        "arreglo_2 = np.random.randint(-10,10, 50)\n",
        "print(arreglo_1)\n",
        "print(arreglo_2)"
      ],
      "execution_count": null,
      "outputs": [
        {
          "output_type": "stream",
          "text": [
            "[ -1  -6   5 -10   7   6   7  -2  -1 -10   0  -2  -6   9   6  -6   5   1\n",
            "   1  -9  -2  -6   4   7   9]\n",
            "[  3  -5   3   9   3   2  -9  -6   8   3   1   0  -1   5   8   6  -3   1\n",
            "   7   4  -3   1  -9 -10   2  -5  -6  -3   8   2  -8  -2   5   3   5  -4\n",
            "   0   1   6   2 -10   7   5   2  -2   0   3   1  -9   8]\n"
          ],
          "name": "stdout"
        }
      ]
    },
    {
      "cell_type": "code",
      "metadata": {
        "id": "8noofQyavHbX",
        "outputId": "ff51b164-6ff2-48be-a77a-9791ad04d147"
      },
      "source": [
        "RMSE(arreglo_1, arreglo_2)"
      ],
      "execution_count": null,
      "outputs": [
        {
          "output_type": "stream",
          "text": [
            "Error: no tienen el mismo tamaño\n"
          ],
          "name": "stdout"
        }
      ]
    },
    {
      "cell_type": "markdown",
      "metadata": {
        "id": "wcxxYA0pvHbY"
      },
      "source": [
        "Debería dar como resultado un mensaje indicando que no tienen el mismo tamaño."
      ]
    },
    {
      "cell_type": "markdown",
      "metadata": {
        "id": "O_N3jPEkvHbZ"
      },
      "source": [
        "2. Documentar brevemente la función creada."
      ]
    },
    {
      "cell_type": "markdown",
      "metadata": {
        "id": "CH8C8fkJvHbZ"
      },
      "source": [
        "### 5. Ejercitación - Generala\n",
        "\n",
        "¡Vamos a jugar a la generala! Para los que no la conocen: es un juego de dados. En este juego tienes 3 tiradas y 5 dados para formar distintas combinaciones (escalera, full, etc). Después de cada tiro, puedes decidir cuántos y cuáles dados dejar en la mesa y cuáles volver a tirar. De esta forma, tienes tres tiradas para lograr alguna de las combinaciones. La combinación que más puntos te da es la generala, que se obtiene cuando los 5 dados devuelven el mismo número.\n",
        "\n",
        "El jugador puede tomar decisiones y plantear una estrategia en este juego, pero la última palabra la tiene el azar. Un buen matemático podría calcular las probabilidades de cada combinación, e ir calculando cómo se modifican estas probabilidades a medida que va dejando - o no - dados sobre la mesa.\n",
        "\n",
        "En nuestro caso, lo que haremos es simular una generala simplificada - el único objetivo es obtener la generala, cinco dados iguales. Para ello, programarás una serie de funciones que te ayudarán a jugar a este juego. Con estas funciones, podrás responder varias preguntas, entre ellas:\n",
        "\n",
        "1. ¿Cuán probable es obtener una generala en la primera tirada?\n",
        "1. ¿Cuán probable es obtener una generala con dos tiradas?\n",
        "1. ¿Cuán probable es obtener una generala luego de las tres tiradas?\n",
        "1. ¿Qué es más problable: obtener una generala con tres tiradas y cinco dados o cuatros tiradas y seis dados?\n",
        "\n",
        "y las que se te ocurran. ¡Manos a la obra!\n",
        "\n",
        "**Importante:** todas las funciones que te pedimos definir acá se resuelven en pocas líneas de código. NumPy y Google forman un gran equipo. Nosotros te dejamos casos de testeo para tus funciones. Resuélvelos con un/a compañero/a, recuerda pensar el problema (escribiéndolo en un papel, hablándolo con alguien) y luego programa. ¡Verás que no son tan difíciles!\n",
        "\n",
        "**Importante dos:** este desafío fue propuesto por *Ernesto Mislej* en el grupo de Facebook *Data Science Argentina*.¡Recomendamos unirse a éste o a otro grupo sobre Ciencia de Datos!"
      ]
    },
    {
      "cell_type": "markdown",
      "metadata": {
        "id": "NwySQg49vHbb"
      },
      "source": [
        "1. Crea la función `tirar_n_dados`. Debe tomar como argumento por defecto `n = 5`, pero tiene que funcionar correctamente para otros valores de `n`."
      ]
    },
    {
      "cell_type": "code",
      "metadata": {
        "id": "8m16aojxvHbc"
      },
      "source": [
        "def tirar_n_dados(n = 5):\n",
        "    resultado = np.random.choice([1,2,3,4,5,6],n)\n",
        "    return resultado"
      ],
      "execution_count": null,
      "outputs": []
    },
    {
      "cell_type": "code",
      "metadata": {
        "id": "ZC5K0fVNvHbd",
        "outputId": "c15fb2be-9f67-4dd9-b3ab-49e267419cd1"
      },
      "source": [
        "tirar_n_dados()"
      ],
      "execution_count": null,
      "outputs": [
        {
          "output_type": "execute_result",
          "data": {
            "text/plain": [
              "array([6, 1, 2, 2, 6])"
            ]
          },
          "metadata": {
            "tags": []
          },
          "execution_count": 27
        }
      ]
    },
    {
      "cell_type": "markdown",
      "metadata": {
        "id": "DN1b7PaxvHbd"
      },
      "source": [
        "2. Crea la función `es_generala`. Esta función toma como entrada los resultados de `tirar_n_dados` y devuelve `True` si es generala y `False` si no lo es."
      ]
    },
    {
      "cell_type": "code",
      "metadata": {
        "id": "jQ0cT6kHvHbe"
      },
      "source": [
        "def es_generala(resultados_n_dados):\n",
        "    booleano = np.all(resultados_n_dados == resultados_n_dados[0])\n",
        "    return booleano\n",
        "    "
      ],
      "execution_count": null,
      "outputs": []
    },
    {
      "cell_type": "code",
      "metadata": {
        "id": "OicXE1NVvHbf",
        "outputId": "f6bda7d1-6b61-43eb-cda7-3f388b1bce4f"
      },
      "source": [
        "### TESTEO UNO\n",
        "array_de_prueba = np.array([2,5,5,5,6])\n",
        "print(es_generala(array_de_prueba))"
      ],
      "execution_count": null,
      "outputs": [
        {
          "output_type": "stream",
          "text": [
            "False\n"
          ],
          "name": "stdout"
        }
      ]
    },
    {
      "cell_type": "code",
      "metadata": {
        "id": "efTBBaSwvHbg",
        "outputId": "e538b3c8-b047-45c9-e264-f12987108547"
      },
      "source": [
        "### TESTEO DOS\n",
        "for _ in range(10000):\n",
        "    tirada_dados = tirar_n_dados(n = 5)\n",
        "    if es_generala(tirada_dados):\n",
        "        print(tirada_dados)"
      ],
      "execution_count": null,
      "outputs": [
        {
          "output_type": "stream",
          "text": [
            "[6 6 6 6 6]\n",
            "[2 2 2 2 2]\n",
            "[6 6 6 6 6]\n",
            "[3 3 3 3 3]\n"
          ],
          "name": "stdout"
        }
      ]
    },
    {
      "cell_type": "markdown",
      "metadata": {
        "id": "KTYDxfAjvHbh"
      },
      "source": [
        "3. Crea una función `seleccionar_mayoria` que, dada una tirada de n dados, devuelve cuál es la moda de los resultados y con qué frecuencia. Dos consideraciones: \n",
        "    * Si los n resultados son distintos, es indistinto cuál valor devuelve.\n",
        "    * Si hay más de un valor posible para devolver - por ejemplo, en la tira `[1, 1, 2, 2, 3]` -, es indistinto cuál valor elige.\n",
        "    \n",
        "    Tal vez te sirva saber que estas consideraciones se resuelven automáticamente si utilizas algunas herramientas de NumPy, como `np.unique()`, `np.argmax()` y alguna más."
      ]
    },
    {
      "cell_type": "code",
      "metadata": {
        "id": "OCdZyb0VvHbi"
      },
      "source": [
        "def seleccionar_mayoria(resultados_n_dados):\n",
        "    unique, counts = np.unique(resultados_n_dados, return_counts=True)\n",
        "    idx = np.argmax(counts)\n",
        "    maximo = unique[idx]\n",
        "    frecuencia = counts.max()\n",
        "    return maximo, frecuencia"
      ],
      "execution_count": null,
      "outputs": []
    },
    {
      "cell_type": "code",
      "metadata": {
        "id": "ydImb0bnvHbj",
        "outputId": "600a7151-ba32-49f1-8573-44dc8c9fe341"
      },
      "source": [
        "# TESTEO UNO\n",
        "array_de_prueba = np.array([1,1,1,5,5])\n",
        "print(seleccionar_mayoria(array_de_prueba))\n",
        "### Debería dar como resultado (1,3)\n",
        "\n",
        "# TESTEO DOS\n",
        "array_de_prueba = np.array([5,3,2,1,6])\n",
        "print(seleccionar_mayoria(array_de_prueba))\n",
        "### Debería dar como resultado (algun numero salvo el 4,1)"
      ],
      "execution_count": null,
      "outputs": [
        {
          "output_type": "stream",
          "text": [
            "(1, 3)\n",
            "(1, 1)\n"
          ],
          "name": "stdout"
        }
      ]
    },
    {
      "cell_type": "markdown",
      "metadata": {
        "id": "aA_FpNVdvHbj"
      },
      "source": [
        "Acá la cosa se empieza a poner áspera, pero tampoco tanto. Veamos algunas situaciones:\n",
        "\n",
        "* Supongamos que en una primera tirada obtienes como resultado `[1, 1, 2, 5, 3]`. En ese caso, te debes quedar con los dados `[1, 1]` y volver a tirar los otros tres dados. Si cuando tiras los tres dados obtienes tres valores iguales **distintos** de los que habías reservado, la mejor estrategia es quedarte con esos tres dados y volver a tirar los otros dos. \n",
        "* Supongamos que en una primera tirada obtienes como resultado `[1, 1, 2, 5, 3]`. En ese caso, te debes quedar con los dados `[1, 1]` y volver a tirar los otros tres dados. Si cuando tiras los tres dados obtienes `[1, 1, 5]` debes poder sumar a los dados que apartaste esos dos `1`.\n",
        "\n",
        "Entonces:\n",
        "\n",
        "\n",
        "4. Crea una función `jugar` tome como argumentos `n_tiradas` con argumento por defecto `3` y `dados_total` con argumento por defecto `5` y que, utilizando las funciones que definiste antes, juegue a la generala. La función debe devolver un arreglo con las n-tiradas realizadas y un índice indicando en qué tirada logró la generala si corresponde (si no logra la generala, debe devolver un valor que indique que no se logró la generala, ¿cuál se te ocurre?). \n",
        "    \n",
        "    Te vamos a dejar un esqueleto bastante armado para esta función, pero si quieres arrancar desde cero, obviamente puedes hacerlo. Para completarlo, ten en cuenta que luego de cada tirada debes dejar algunos dados en la mesa, `dados_mesa`, y volver a tirar otros, `dados_nuevos`. La cantidad de dados nuevos que debes tirar se decide dinámicamente en cada ciclo del loop. Cuando decides qué dados deben quedar sobre la mesa, debes mirar tanto los dados que ya estaban sobre la mesa como los que acabas de tirar, `todos_dados`."
      ]
    },
    {
      "cell_type": "code",
      "metadata": {
        "id": "W7DyWv-WvHbk"
      },
      "source": [
        "def jugar(n_tiradas = 3, dados_total= 5):\n",
        "    # Numero de dados a tirar inicialmente\n",
        "    n_dados = dados_total \n",
        "    \n",
        "    # Dados en la mesa inicialmente\n",
        "    dados_mesa = np.array([]) \n",
        "    \n",
        "    # Donde guardamos las tiradas\n",
        "    tiradas = np.zeros((n_tiradas, dados_total)) # \n",
        "    \n",
        "    # Numero de tirada exitosa\n",
        "    tirada_exitosa = -1\n",
        "    \n",
        "    # Contamos cuantas tiradas hicimos hasta ahora\n",
        "    contador_tiradas = 0\n",
        "    \n",
        "    while (contador_tiradas < n_tiradas) and tirada_exitosa == -1:\n",
        "        # Tiramos los dados\n",
        "        dados_nuevos = tirar_n_dados(n_dados)\n",
        "        \n",
        "        # Combinamos los dados recien tirados con los que ya estan en la mesa\n",
        "        todos_dados = np.concatenate((dados_mesa, dados_nuevos))\n",
        "        \n",
        "        # Guardamos tirada\n",
        "        tiradas[contador_tiradas,:] = todos_dados\n",
        "        \n",
        "        # Nos fijamos si es generala\n",
        "        if es_generala(todos_dados):\n",
        "            # Si es, modificamos el valor de tirada exitosa.\n",
        "            # Esto debe cortar el loop.\n",
        "            tirada_exitosa = contador_tiradas\n",
        "        else:\n",
        "            # Si no es generala, sigue tirando \n",
        "            # Se fija qué dados debe dejar en la mesa\n",
        "            maximo, frecuencia = seleccionar_mayoria(todos_dados)\n",
        "            dados_mesa = np.repeat(maximo, frecuencia)\n",
        "            \n",
        "            # Calcula cuántos dados volver a tirar\n",
        "            n_dados = dados_total - frecuencia\n",
        "        \n",
        "        # Suma al contador de tiradas\n",
        "        contador_tiradas +=1\n",
        "    return tiradas, tirada_exitosa"
      ],
      "execution_count": null,
      "outputs": []
    },
    {
      "cell_type": "code",
      "metadata": {
        "id": "1-z2bdUAvHbk",
        "outputId": "4735a0b5-8724-44c3-dd22-10377582420e"
      },
      "source": [
        "# TESTEO\n",
        "for i in range(200):\n",
        "    tiradas, tirada_exitosa = jugar(3, 5)\n",
        "    if tirada_exitosa >=0:\n",
        "        print(tiradas, tirada_exitosa)"
      ],
      "execution_count": null,
      "outputs": [
        {
          "output_type": "stream",
          "text": [
            "[[1. 3. 1. 1. 1.]\n",
            " [1. 1. 1. 1. 1.]\n",
            " [0. 0. 0. 0. 0.]] 1\n",
            "[[2. 2. 2. 4. 2.]\n",
            " [2. 2. 2. 2. 4.]\n",
            " [2. 2. 2. 2. 2.]] 2\n",
            "[[6. 2. 6. 6. 4.]\n",
            " [6. 6. 6. 6. 2.]\n",
            " [6. 6. 6. 6. 6.]] 2\n",
            "[[6. 6. 6. 6. 1.]\n",
            " [6. 6. 6. 6. 6.]\n",
            " [0. 0. 0. 0. 0.]] 1\n",
            "[[4. 4. 1. 4. 5.]\n",
            " [4. 4. 4. 4. 4.]\n",
            " [0. 0. 0. 0. 0.]] 1\n",
            "[[2. 2. 1. 5. 5.]\n",
            " [2. 2. 2. 4. 2.]\n",
            " [2. 2. 2. 2. 2.]] 2\n"
          ],
          "name": "stdout"
        }
      ]
    },
    {
      "cell_type": "markdown",
      "metadata": {
        "id": "ok1MfXbQvHbl"
      },
      "source": [
        "¿Estás contento/a con el código?¿Está bien hecho?¿Se te ocurre alguna situación que no haya sido considerada o donde pueda fallar? Siempre es importante ser crítico con el código desarrollado (y con la metodología en general) en busca de puntos débiles. Siempre se puede programar mejor. De hecho, hay un montón de buenas costumbres cuando programamos funciones que hemos dejado de lado, como por ejemplo, chequear que a nuestra funciones les lleguen los argumentos correctos. Por ejemplo, si nuestra función debe recibir como argumento un arreglo de NumPy de cierto shape, no está demás chequearlo.\n",
        "\n",
        "Ahora sí, es hora de jugar con estas funciones. Elije algunas de las preguntas e intenta responderla, o genera alguna propia y fíjate si lo que hicimos te sirve para responderla. Nosotros elegimos responder qué generala es más probable, si tres tiros y cinco dados o cuatro tiros y seis dados, que te la daremos junto con el resuelto de este notebook."
      ]
    },
    {
      "cell_type": "code",
      "metadata": {
        "id": "A-RWPTTQvHbl"
      },
      "source": [
        "### PUEDE LLEVAR MUCHO TIEMPO, REDUCIR EL N\n",
        "N = 100000\n",
        "cantidad_de_generalas_3_5 = 0\n",
        "for i in range(N):\n",
        "    tiradas, tirada_exitosa = jugar(3, 5)\n",
        "    if tirada_exitosa >=0:\n",
        "        cantidad_de_generalas_3_5 +=1\n",
        "\n",
        "cantidad_de_generalas_4_6 = 0\n",
        "for i in range(N):\n",
        "    tiradas, tirada_exitosa = jugar(4, 6)\n",
        "    if tirada_exitosa >=0:\n",
        "        cantidad_de_generalas_4_6 +=1"
      ],
      "execution_count": null,
      "outputs": []
    },
    {
      "cell_type": "code",
      "metadata": {
        "id": "mVgblKOyvHbl",
        "outputId": "ae75149c-3285-4d56-952b-ed1c10d22f69"
      },
      "source": [
        "print(cantidad_de_generalas_3_5/N)\n",
        "print(cantidad_de_generalas_4_6/N)"
      ],
      "execution_count": null,
      "outputs": [
        {
          "output_type": "stream",
          "text": [
            "0.0469\n",
            "0.0541\n"
          ],
          "name": "stdout"
        }
      ]
    },
    {
      "cell_type": "markdown",
      "metadata": {
        "id": "ZqmHpNlyvHbm"
      },
      "source": [
        "Por lo que parece más probable la generala con cuatro tiros y seis dados."
      ]
    },
    {
      "cell_type": "code",
      "metadata": {
        "id": "DMN09IQ1vHbn"
      },
      "source": [
        ""
      ],
      "execution_count": null,
      "outputs": []
    }
  ]
}
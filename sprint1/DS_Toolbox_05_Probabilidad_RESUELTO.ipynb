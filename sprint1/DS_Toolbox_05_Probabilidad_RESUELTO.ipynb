{
  "nbformat": 4,
  "nbformat_minor": 0,
  "metadata": {
    "kernelspec": {
      "display_name": "Python 3",
      "language": "python",
      "name": "python3"
    },
    "language_info": {
      "codemirror_mode": {
        "name": "ipython",
        "version": 3
      },
      "file_extension": ".py",
      "mimetype": "text/x-python",
      "name": "python",
      "nbconvert_exporter": "python",
      "pygments_lexer": "ipython3",
      "version": "3.7.3"
    },
    "colab": {
      "name": "DS_Toolbox_05_Probabilidad_RESUELTO.ipynb",
      "provenance": []
    }
  },
  "cells": [
    {
      "cell_type": "markdown",
      "metadata": {
        "id": "oN7UNBSu60yk"
      },
      "source": [
        "# Probabilidad y Estadística\n",
        "\n",
        "El objetivo del siguiente notebook es afianzar algunos conceptos de Probabilidad y, de paso, empezar a ver cómo se hacen gráficos con Matplotlib, una nueva librería que veremos más en detalle en la próxima bitácora y encuentro. Por ahora, solamente tienen que instalarla y correr las celdas. ¡No te preocupes si no entiendes lo que hacen esas celdas! Lo importante es que prestes atención a sus resultados.\n",
        "\n",
        "## 1. Distribuciones de probabilidad\n",
        "\n",
        "El concepto de distribución de probabilidad es un concepto central en probabilidad y estadística y, por lo tanto, hay mucho para decir. Nos limitamos acá a los puntos más importantes.\n",
        "\n",
        "\n",
        "### 1.1 Distrubución Uniforme Discreta\n",
        "\n",
        "Comencemos por un ejemplo: un dado de seis caras. La probabilidad de que al tirar el dado *salga* una cara es $1/6$. Si graficamos la probabilidad para cada resultado posible de tirar un dado, obtendríamos un gráfico como el siguiente:"
      ]
    },
    {
      "cell_type": "code",
      "metadata": {
        "id": "bEOEe6YN60ym"
      },
      "source": [
        "import numpy as np\n",
        "import matplotlib.pyplot as plt"
      ],
      "execution_count": null,
      "outputs": []
    },
    {
      "cell_type": "code",
      "metadata": {
        "id": "cIK2Kyuw60ym",
        "outputId": "01188cfb-86f4-4b6b-f11a-396356fe3231"
      },
      "source": [
        "valores = np.arange(1,7)\n",
        "probas = np.zeros(6) + 1/6\n",
        "plt.bar(valores, probas)\n",
        "plt.title('Distribución de probabilidad uniforme: lanzamiento de un dado')\n",
        "# plt.savefig('distribucion_dado.png', dpi = 400)\n",
        "plt.show()"
      ],
      "execution_count": null,
      "outputs": [
        {
          "output_type": "display_data",
          "data": {
            "image/png": "[encoded data removed]",
            "text/plain": [
              "<Figure size 432x288 with 1 Axes>"
            ]
          },
          "metadata": {
            "tags": [],
            "needs_background": "light"
          }
        }
      ]
    },
    {
      "cell_type": "markdown",
      "metadata": {
        "id": "ttGExc4360yn"
      },
      "source": [
        "En este caso, decimos que la distribución de probabilidad es *uniforme discreta*, ya que le asigna la misma probabilidad a los seis valores que pueden salir al tirar el dado. Si el dado estuviera cargado, ya no sería uniforme.\n",
        "\n",
        "**Algunos detalles**:\n",
        "1. El resultado de tirar un dado es un ejemplo de una *variable aleatoria*.\n",
        "2. En el caso del dado, la variable aleatoria puede tomar valores *discretos* y *acotados* (limitados): 1, 2, 3, 4, 5 y 6\n",
        "3. Existen variables aleatorias donde los posibles valores que puede tomar son continuos y no acotados. Veremos la distribución más famosa de ellas a continuación."
      ]
    },
    {
      "cell_type": "markdown",
      "metadata": {
        "id": "wdK9rfRe60yn"
      },
      "source": [
        "### 1.2 Distribución Normal o Gaussiana\n",
        "\n",
        "La distribución normal o gaussiana debe ser la distribución más famosa dentro de las distribuciones. Es una distribución de variable continua y aparece en una infinidad de ámbitos de la ciencia. Muchas variables asociadas a fenómenos naturales siguen una distribución gaussiana; un ejemplo típico es la estatura de las personas. La forma que tiene esta distribución está dada por la siguiente fórmula:\n",
        "\n",
        "$$f(x|\\mu, \\sigma^2)=\\frac{1}{\\sqrt{2 \\pi \\sigma^2}}e^{\\frac{-(x - \\mu)^2}{2\\sigma^2}}$$\n",
        "\n",
        "¡No te asustes si no la entiendes! Durante el encuentro, veremos más en detalle algunos aspectos de esta distribución. Pero es importante resaltar que tiene sólo dos parámetros: su valor medio $\\mu$ y su desviacíon estándar $\\sigma$. Estos valores son *teóricos*, es decir, son propios de la distribución de probabilidad. \n",
        "\n",
        "Recomendamos entrar en la página de Wikipedia de la [Distribución Normal](https://es.wikipedia.org/wiki/Distribuci%C3%B3n_normal) y prestar atención al primer gráfico - dónde podrán ver la forma teórica de la distribución - y a la sección \"Propiedades\".\n",
        "\n",
        "\n",
        "**Distribución Normal en NumPy**\n",
        "\n",
        "Como mencionamos en el encuentro anterior, NumPy nos provee de herramientas para generar valores aleatorios de distribuciones. A continuación generamos, usando `np.random.normal()`, muestras de dos distribuciones normales, con el mismo valor medio pero distinta desviación estándar. **Consultar** la ayuda de la función para entender bien qué hace."
      ]
    },
    {
      "cell_type": "code",
      "metadata": {
        "scrolled": true,
        "id": "mQZ4OD3260yo",
        "outputId": "cf33e9e2-1460-447e-976a-49bb649344ce"
      },
      "source": [
        "mu = 2.0\n",
        "sigma_1 = 5.0\n",
        "sigma_2 = 2.0\n",
        "muestras_1 = np.random.normal(loc = mu, scale = sigma_1, size = 400)\n",
        "muestras_2 = np.random.normal(loc = mu, scale = sigma_2, size = 400)\n",
        "print(muestras_1, muestras_2)"
      ],
      "execution_count": null,
      "outputs": [
        {
          "output_type": "stream",
          "text": [
            "[ 7.82236658e+00  6.90566619e-01  4.55835306e+00  5.49653548e+00\n",
            " -4.86059135e-01  1.08344641e+01  4.59574242e-01  4.56114833e+00\n",
            "  2.69180410e+00  1.04042850e+01  1.72966391e-01  4.71589121e+00\n",
            "  1.65272833e+00  3.84110999e+00  7.33081742e+00 -6.12634965e+00\n",
            "  4.45103402e+00 -1.01055934e+00 -5.38289116e+00 -1.02629016e-01\n",
            " -2.26372181e+00  3.84754177e+00  2.25237306e+00  7.98244285e+00\n",
            "  7.81795741e+00 -3.13705706e+00 -5.98887666e+00  4.57319906e+00\n",
            "  1.58227348e+00  1.03147053e+00  6.20794141e+00  1.85847189e-01\n",
            "  2.97386943e+00 -8.34449395e-02  8.09698353e+00  3.86008610e+00\n",
            "  4.17886309e+00  2.15587222e+00 -4.29058025e-01 -2.66379649e+00\n",
            "  9.64622600e+00  7.05501693e-01  5.16224925e+00 -4.48423709e+00\n",
            "  7.44805734e+00  3.39538044e+00 -1.10376141e+01  1.41653739e+00\n",
            "  5.17285340e+00  8.41652046e+00 -1.72919841e-01  1.79828112e+00\n",
            "  5.80001436e-01  2.08754982e+00  1.42345732e+00 -5.13968110e-01\n",
            "  2.48918466e+00  6.70443160e+00  2.01058377e+00  5.70005751e+00\n",
            "  2.00074394e+00  3.50234796e+00  2.52280715e+00  3.73590417e+00\n",
            " -2.01144094e+00  9.44149900e+00  6.87314505e+00  6.21111622e-01\n",
            " -5.21182398e+00  1.92945943e+00  5.45003857e+00  9.31708043e+00\n",
            "  1.29735092e+00 -2.17475823e+00  1.66680565e+01  3.23385317e+00\n",
            "  6.65858081e+00  2.76149949e+00  3.86912252e+00  4.43300638e+00\n",
            "  1.19584783e+01 -2.34886430e-01 -1.47622990e+00 -8.08859652e-01\n",
            " -9.14794540e+00  2.34779390e+00  6.31929587e+00  8.49868271e+00\n",
            "  2.08693909e+00 -2.10359501e-01 -5.29800186e+00  1.75548822e+00\n",
            "  4.63092739e+00  3.16416984e+00 -1.74315219e+00  5.12785010e+00\n",
            "  6.53661096e+00  2.52800507e-01 -4.12565941e+00  2.97727819e+00\n",
            "  1.41000706e+01  8.90970164e+00  2.42681908e+00  6.79940466e+00\n",
            "  1.20264604e+00  9.91830985e+00  6.48377712e-01 -6.39823081e+00\n",
            "  9.99449052e-01  7.07018554e+00 -1.03417624e+00  6.23327880e+00\n",
            "  7.29403354e+00  1.34943337e+01 -2.65662710e+00 -4.89172579e-01\n",
            " -2.62952043e+00 -5.56253788e+00  5.98803034e+00  6.99165077e+00\n",
            "  1.68963008e+00  5.47137333e+00  2.70230983e+00  9.37008314e-01\n",
            " -7.40273499e-01  1.69373774e+00  3.38852810e+00  1.39534475e-01\n",
            " -3.58288843e-02  5.57976290e+00  8.73066317e+00  5.38984559e+00\n",
            "  5.81686405e+00  4.19243214e+00  4.72988935e+00 -2.40496608e+00\n",
            "  2.50203961e+00  4.24148864e+00  2.35276550e+00  6.68370949e+00\n",
            " -8.62885031e-01 -2.90911176e-01 -5.15008239e+00  8.12653749e+00\n",
            "  2.40573892e+00  8.93118382e+00  1.14176376e+01  4.37371681e+00\n",
            "  2.52882524e+00 -6.32786049e+00  1.14910859e+01 -7.98814289e-01\n",
            "  5.88979594e+00 -2.44097365e+00  1.39414723e+01  4.14776466e+00\n",
            " -4.43716961e+00  2.11397330e+00  4.81820783e+00  9.95764011e+00\n",
            " -5.89547566e+00  6.14354185e+00  1.51847946e+00  1.12975260e+01\n",
            " -7.31541626e+00 -4.06819266e+00 -8.11277547e-01  1.84656438e+00\n",
            " -2.13124663e+00  1.39452848e+00  1.62685218e+00  1.28971417e+01\n",
            " -8.32824560e-01 -1.61085481e+00  3.47186220e+00  3.38724881e+00\n",
            "  4.56248456e-04  3.19498985e+00 -2.29295229e+00  3.43072320e+00\n",
            " -1.50077660e-01  5.30380756e+00 -2.40738353e+00 -2.27561772e+00\n",
            " -1.93246813e+00  1.62060542e+01  5.64258150e+00 -1.46827455e+00\n",
            "  3.61230083e+00  9.92191956e+00  9.56553334e-01  4.09785136e+00\n",
            "  8.16744751e+00  1.45559637e-01  9.68580724e-01  8.32568776e+00\n",
            "  1.08765996e+01  2.25082445e+00 -6.04935151e-02 -2.55159962e-01\n",
            "  3.32708303e+00 -2.41902030e+00 -8.07097553e-01 -2.00314852e+00\n",
            " -2.34801362e-01  2.88929458e+00  6.13940464e+00 -2.79338320e+00\n",
            " -4.80241413e+00  4.42323310e+00  1.02327842e+01  4.47482420e+00\n",
            "  1.01020940e+01  7.85957134e-01 -1.30636217e-01 -5.94162735e+00\n",
            "  3.21427348e+00  2.85109834e+00  1.74236555e+00  7.05654413e+00\n",
            "  7.28327176e+00  1.18874691e+01 -1.52846737e+00  2.88360205e-01\n",
            "  1.97728310e+00  3.67507737e+00 -1.67523388e+00 -9.53973001e+00\n",
            "  2.22708939e-01 -7.72939949e-01  5.88754962e+00 -9.60852804e+00\n",
            "  5.52951030e+00 -2.43984900e-01  4.20114751e+00  1.25135073e+01\n",
            " -1.84432295e+00 -1.53599905e+00 -3.76601063e+00  5.99424359e+00\n",
            "  7.44566007e+00 -4.85572826e+00  2.51325745e+00  1.65239185e+00\n",
            "  4.77170226e+00  4.27705909e+00 -9.47899694e+00  3.80480293e+00\n",
            "  1.96423735e+00 -3.55001988e-01  7.99298733e+00  1.08256150e+01\n",
            "  1.08799997e+01 -9.90369238e-01  6.10473440e+00  1.02526525e+01\n",
            "  1.72304175e+00 -3.31627667e+00 -2.23751675e+00 -4.99455559e-01\n",
            " -1.89398687e+00  6.20084907e+00 -3.15858333e+00  1.45744205e+01\n",
            "  2.88420219e+00  1.20721184e+01 -2.34369683e+00  6.73248610e-01\n",
            "  6.11479639e+00 -5.05677741e-01  2.82037295e+00 -7.64091153e+00\n",
            "  1.06254040e+00 -4.92737808e-01 -1.02368075e+00 -5.32323061e+00\n",
            "  9.11018082e+00  4.64757015e+00  5.31159273e+00 -2.23988141e+00\n",
            " -7.86467169e-01  9.24065251e-01 -4.49214490e+00  6.54534295e-01\n",
            "  4.44373393e+00  6.01162223e+00 -1.51670774e+00  7.61250194e+00\n",
            "  2.61423232e-01 -2.47887407e+00  2.29403963e+00  1.46544988e+00\n",
            " -3.92277725e-01  1.72630200e+00  7.16724758e+00  5.13680484e+00\n",
            "  3.27067111e+00  3.06711755e+00  4.68524006e-01 -4.31734752e+00\n",
            " -1.01515396e+00  3.21244469e+00  1.98658060e+00  5.50701306e+00\n",
            " -2.62888343e+00  5.40073181e-02  2.30067316e+00 -8.51838316e-01\n",
            " -3.63115344e+00 -4.59685665e-01  6.85272520e+00 -5.61747647e+00\n",
            " -3.19375918e+00  3.87088230e+00 -1.65296174e+00 -9.76525387e+00\n",
            " -3.77455829e+00  7.42317221e+00 -7.22537754e+00  8.62801615e-01\n",
            " -4.78034173e+00 -1.81342070e+00  9.98911310e+00  2.99741971e+00\n",
            "  5.57346693e+00  5.96514451e+00  5.21965855e-02  7.27988212e+00\n",
            "  6.28840716e+00  3.00563938e-01 -3.14730248e+00 -3.25711367e+00\n",
            "  5.48796198e+00  8.25240528e+00  1.32110926e+00 -3.28999800e+00\n",
            " -2.62510010e+00 -1.59634071e+00  9.20348413e+00  6.42070489e+00\n",
            "  5.70841367e+00  9.23633992e+00  1.14247071e+01  2.41826565e+00\n",
            " -1.35882896e+00  3.22702960e+00  4.02000339e-01  1.02351582e+01\n",
            "  8.91901273e+00  3.83386567e+00  7.21422305e-02  2.16934143e+00\n",
            "  4.55113168e+00 -2.98044066e+00  8.02228147e+00  1.64948648e+01\n",
            "  4.86352102e+00 -4.20821953e+00  2.68240549e-01 -6.96716305e+00\n",
            "  2.74707754e+00 -4.85485241e+00  3.42772302e+00  2.92429570e+00\n",
            " -2.91321466e+00  4.03121349e+00 -9.11292871e-01  7.99285631e+00\n",
            "  1.19741353e+01  3.88530157e+00 -1.97916175e+00  6.50930772e+00\n",
            "  3.09463751e-01  3.62528681e+00  1.56789311e+00  2.74113063e+00\n",
            " -9.11424370e-01  1.15159178e+01 -1.17008278e+00  4.69618521e-01\n",
            " -5.04679976e+00  2.86214738e+00  2.93927381e+00  4.44285669e+00\n",
            "  9.71774959e-01  3.37120773e-01 -1.15556060e+00  1.10910781e+00\n",
            " -1.08203657e+00 -4.47536096e+00  2.05090621e+00  1.18159955e+00\n",
            "  5.96698211e+00  7.03381085e-01  5.26958170e+00  6.99633086e+00\n",
            "  6.06369502e+00  5.33896488e+00  9.17548483e+00  3.20443863e+00] [ 2.02239739  4.08823773  4.0023605   1.34877763  2.71995343 -0.22735054\n",
            "  0.70499495  1.1150832  -0.47420927  2.26429442  4.73856026  0.98102017\n",
            "  2.38028582  3.61383862 -1.46773819  1.59639685  3.62775984  0.79425567\n",
            "  4.29903748  2.04890245  2.53089923  3.90974794 -0.29742759  1.36755102\n",
            "  2.579286    1.36348733  1.77532488  2.48940189  2.52807991  1.85617955\n",
            "  1.21209466  3.74206874  1.97426484  2.7023455   2.73539511  3.53430061\n",
            "  4.37141304 -0.58939432  4.20218082  3.0651406   1.87222742  0.27701275\n",
            " -0.61832252  3.40612164  1.87291242  1.01464267  1.21420251  3.53702674\n",
            "  3.09108133 -0.62018138  0.60747928  4.01762734  4.95015309  3.83269026\n",
            " -0.40346307  1.41420327  2.15244513  1.10821116  3.52670298 -0.62736357\n",
            "  3.47331745  1.27285618 -0.2726615   1.52727259  0.18237864  2.62225408\n",
            "  1.13697902  4.30878441 -0.56191035  0.91652087 -0.5163898   3.90662086\n",
            "  0.8192113   2.10970521  0.96702313  0.94111874 -0.13706278  2.7215301\n",
            "  1.71873899  3.41890534  3.4376389  -0.40099113  1.6259864   0.59915174\n",
            "  2.83723364  4.53211516  2.61742529 -1.82903798  2.18316932  0.80921889\n",
            "  1.44738272 -0.93591693  3.1133296   3.3243495   3.5278922   5.26517507\n",
            "  0.22411828  0.02076013 -0.93982375  3.03496249  5.42965112  1.01566611\n",
            "  4.66533231  4.72508744  2.49490786 -0.27478309  2.2219253   1.88879595\n",
            "  1.15427868  4.12819286  4.70642641  1.60402884  1.55850221  1.03486826\n",
            "  4.00680513  0.15870843  2.83828765  2.62522219  4.07796501 -1.0293076\n",
            "  4.48106075  2.8100022   1.99199056  1.63977119 -3.67758161  1.83643176\n",
            "  2.22663652  4.24547169  0.54164843  4.16360683  0.44599658  2.13076433\n",
            " -1.35034325  4.59965932  1.41443423 -2.15414287  3.44427548 -0.22869782\n",
            "  2.24166246  2.43552546  2.81039443  1.94445711  5.94838643  3.31214391\n",
            "  0.0431824   0.93382104  1.83027637  3.11618338 -0.16952332  3.15626128\n",
            "  1.2618831   4.74010536 -0.16366793  0.72487248  1.76760893  1.08489597\n",
            "  4.76073826  3.76208295  2.02413369 -3.41469599  2.05462648  2.85955744\n",
            "  0.55822543  0.82737574  0.71026319  4.33928846  0.80156658  2.03371314\n",
            "  2.83372031  2.97227858  5.08470171 -0.58666095  2.02990824  2.28376209\n",
            "  1.85759444  2.34048349  2.62430748  3.55031828  2.88176094  1.47103652\n",
            "  1.5651259   0.67987572  0.08937086 -0.8430127  -1.28162779 -1.45325422\n",
            "  3.33962256 -0.57589664  1.61034901  7.0606957   3.54687586 -0.94724154\n",
            " -0.74467183 -0.58945018  0.22761847  4.08628475  1.43783259  1.40367297\n",
            "  2.58433257  4.15080261  4.26985437  4.3056464   4.61050905  5.53443362\n",
            " -1.30756862  0.40814973  3.11353042  2.3984222  -0.09194492  2.40583188\n",
            "  2.23506895  2.72542186  0.58227835  3.13640681  5.34400436  1.15458831\n",
            "  0.01316438  0.78550575  5.06119696  3.77344239  1.07149299  1.88255903\n",
            "  5.03649275  2.9220209   2.88580601  3.97073141  2.80536687 -0.47291291\n",
            "  1.33562038  1.47234851 -1.25519495  0.35048979 -0.15175372  0.3160463\n",
            "  2.29426011  3.52150494  5.50345688  1.49684531  4.09321933  2.7393384\n",
            "  3.61994205 -0.99212284  2.14481538  4.26851195  1.32957787  2.04741953\n",
            "  3.28875946  4.71469701  1.62172744  1.82834392  0.48483405  0.055134\n",
            "  3.17198668  0.85196182  3.9686099  -0.5994914   4.23460445 -1.46293524\n",
            " -1.46515082 -0.50606191  4.29097766  6.16346988 -0.13040649  1.39441101\n",
            "  3.65495102  3.68877045  1.42368633  0.49657387  0.08823405 -0.26290384\n",
            " -1.28154309  3.95782361 -0.54492258  1.10231215  0.94827206  4.04118793\n",
            "  1.62055418  5.29831549  6.56281035 -0.9272628   2.17538365  1.68003738\n",
            " -1.48176386  6.4290121   1.13816263  1.02279145  0.71616335  0.52678268\n",
            "  0.34912247  4.03736615  0.22244966 -2.29331912 -0.17041438  3.64713297\n",
            " -0.12195551  5.65552405  2.0327146   3.37820583  2.13284536  3.74595632\n",
            "  1.97599515 -1.15303429 -1.30616903  0.40869864  1.97579371  1.35498854\n",
            "  2.03088773  2.91606035  0.77945285  3.23053595  3.74294197  1.471503\n",
            " -1.14707428  1.97561213  5.77636241  1.51624382  0.97012729  0.2158006\n",
            "  2.83912721  2.16276175 -0.11944932  1.67004458  2.56251282  2.55020218\n",
            "  3.53820489  2.59182391  5.71158969  4.08339997  2.10265553  1.48972526\n",
            "  3.14058725 -1.52817555  3.67376527  1.99884209  1.85183607  6.20270613\n",
            "  4.21725354 -2.03602446  5.65775915  2.49363847  2.67058818  2.8904159\n",
            "  3.31654897  3.45807757  1.92547088  3.66174792  2.56657307  1.60050516\n",
            "  2.28583998  1.27611745  0.01912055  3.96311357  1.59083141  2.47859938\n",
            "  3.30193054  3.96910435  3.18702195  6.735529    7.27285916  6.47484339\n",
            "  2.62844128  4.15864137  5.53417117  2.59975868  3.79495565 -0.80712896\n",
            " -4.04177314 -1.77984498  0.08640139  2.41142998 -2.27227843  5.97960957\n",
            "  4.32760954  6.28635262 10.54076221  0.40897718 -0.46698165  2.41311093\n",
            " -0.72340345  0.26336002  0.73722819  2.1042419   1.54398232  6.31890469\n",
            "  0.80826022  4.2939992  -2.84428718 -1.72643289 -0.18101372 -0.04385147\n",
            "  2.51423141  1.88188325  4.45802256  1.79448632  5.0295078   1.09418606\n",
            "  0.62959795  2.08547103  2.01458044  4.44649587]\n"
          ],
          "name": "stdout"
        }
      ]
    },
    {
      "cell_type": "markdown",
      "metadata": {
        "id": "ZBlYCsnb60yp"
      },
      "source": [
        "Notar que son dos \"tiras\" de números, bastante largas y que a simple vista no nos dicen mucho. Mejor, podemos graficar su histograma. Veremos bien qué es un histograma en la próxima bitácora. Por ahora, basta saber que es una forma de visualizar cómo está distribuida una tira de números. Lo que hace es tomar un número determinado de intervalos (`bins = 20`) y contar cuántas muestras caen en cada intervalo."
      ]
    },
    {
      "cell_type": "code",
      "metadata": {
        "id": "jbUIQV1K60yp",
        "outputId": "38bf8fa1-0dcc-420c-ddf2-f01c7eab94ca"
      },
      "source": [
        "plt.hist(muestras_1, bins = 20, alpha = 0.5, label = 'Histrograma Muestra 1')\n",
        "plt.hist(muestras_2, bins = 20, alpha = 0.5, label = 'Histrograma Muestra 2')\n",
        "plt.legend()\n",
        "plt.grid()\n",
        "plt.show()"
      ],
      "execution_count": null,
      "outputs": [
        {
          "output_type": "display_data",
          "data": {
            "image/png": "[encoded data removed]",
            "text/plain": [
              "<Figure size 432x288 with 1 Axes>"
            ]
          },
          "metadata": {
            "tags": [],
            "needs_background": "light"
          }
        }
      ]
    },
    {
      "cell_type": "markdown",
      "metadata": {
        "id": "ziIJk9UQ60yp"
      },
      "source": [
        "**Ejercicio:** Volver a \"generar\" las muestas y hacer sus histogramas. ¿Cambió?¿Por qué? Googlear que es una *semilla* (`seed`) en NumPy e implementar. También, cambiar la cantidad de muestras, modificando el argumento `size`. \n",
        "\n",
        "### 1.3 Relación entre Probabilidad y Estadística\n",
        "\n",
        "**Promedio y desviación estándar en una distribución Normal**\n",
        "\n",
        "En una distribución normal, el promedio de las muestras obtenidas *tiende* al valor medio $\\mu$ de la distribución, y la desviación estándar *tiende* a la desviacíon estándar $\\sigma$ de la distribución. Notar, entonces, que existen valores calculados (promedio, desviación estándar) y valores teóricos ($\\mu$ y $\\sigma$). Confundirlos entre sí es un error común.\n",
        "\n",
        "Veamos un ejemplo. Nuevamente, obtenemos muestras de una distribución normal:"
      ]
    },
    {
      "cell_type": "code",
      "metadata": {
        "id": "UymF5H6p60yq"
      },
      "source": [
        "mu = 8.5\n",
        "sigma = 3.0\n",
        "muestras = np.random.normal(loc = mu, scale = sigma, size = 100)"
      ],
      "execution_count": null,
      "outputs": []
    },
    {
      "cell_type": "markdown",
      "metadata": {
        "id": "yTRPHZ-V60yq"
      },
      "source": [
        "Y calculamos su promedio y desviación estándar, y comparamos con $\\mu$ y $\\sigma$."
      ]
    },
    {
      "cell_type": "code",
      "metadata": {
        "id": "2fdNtoIq60yr",
        "outputId": "5b6e9730-089b-43f0-9808-1657019716e9"
      },
      "source": [
        "print('Valor medio teorico:', mu, '. Valor medio calculado:', muestras.mean())\n",
        "print('Desviacion estandar teorica:', sigma, '. Desviacion estandar calculada:', muestras.std())"
      ],
      "execution_count": null,
      "outputs": [
        {
          "output_type": "stream",
          "text": [
            "Valor medio teorico: 8.5 . Valor medio calculado: 8.704179873069474\n",
            "Desviacion estandar teorica: 3.0 . Desviacion estandar calculada: 2.927367795818023\n"
          ],
          "name": "stdout"
        }
      ]
    },
    {
      "cell_type": "markdown",
      "metadata": {
        "id": "R79Uyl9H60yr"
      },
      "source": [
        "Comparemos el histograma de las muestras y la distribución teórica, que graficaremos haciendo uso de la librería `SciPy`:"
      ]
    },
    {
      "cell_type": "code",
      "metadata": {
        "id": "KXeQmxa460ys",
        "outputId": "3b85a1a2-5435-408b-d9e9-e9f695424c28"
      },
      "source": [
        "from scipy.stats import norm\n",
        "\n",
        "plt.hist(muestras, bins=20, density=True, alpha=0.6, color='g')\n",
        "\n",
        "xmin, xmax = plt.xlim()\n",
        "x = np.linspace(xmin, xmax, 100)\n",
        "p = norm.pdf(x, mu, sigma)\n",
        "plt.plot(x, p, 'k', linewidth=2, label = 'Distribución Teórica')\n",
        "\n",
        "title = \"Muestras obtenidas de una distribución normal con mu = %.2f,  sigma = %.2f\" % (mu, sigma)\n",
        "\n",
        "plt.title(title)\n",
        "plt.legend()\n",
        "plt.show()"
      ],
      "execution_count": null,
      "outputs": [
        {
          "output_type": "display_data",
          "data": {
            "image/png": "[encoded data removed]",
            "text/plain": [
              "<Figure size 432x288 with 1 Axes>"
            ]
          },
          "metadata": {
            "tags": [],
            "needs_background": "light"
          }
        }
      ]
    },
    {
      "cell_type": "markdown",
      "metadata": {
        "id": "AmtE7nxI60ys"
      },
      "source": [
        "**Nota:** si estás atento/a a la escala en el eje *y*, notarás que es distinta a la escala de los histogramas anteriores. Esto se debe a que, en un histograma, además de graficar la cantidad de muestras que entran en cada intervalo, podemos también graficar la **proporción** de muestras que entran en cada intervalo.\n",
        "\n",
        "**Para pensar y probar:** \n",
        "1. ¿Por qué no coinciden $\\mu$ y $\\sigma$ con los valores calculados?¿Qué podemos hacer para que se parezcan cada vez más?¿Y qué ocurre en ese caso con el histograma y la distribución teórica?\n",
        "2. Con respecto al ejercicio que acabamos de hacer, ¿cuáles son los *parámetros* asociados al mundo de las probabilidades y cuáles son los *valores estadísticos* asociados al mundo de la estadística?\n",
        "\n",
        "\n",
        "### Ejercitación\n",
        " \n",
        "Los siguientes ejercicios pueden parecer muy difíciles, pero te aseguramos que no lo son tanto. ¡Lo importante es que los intentes!\n",
        "\n",
        "**Ejercicio 1 - Challenge:** Muchos juegos de mesa requieren tirar dados y sumar sus resultados. Por ejemplo, el [Catán](https://es.wikipedia.org/wiki/Los_Colonos_de_Cat%C3%A1n). Es evidente que, mientras en un dado la probabilidad de que salga cada cara es la misma, en esta variable aleatoria todos los resultados no son igual de probables (¿Cuáles son los posibles resultados?). Entonces, para mejorar tu estrategia en estos juegos, es útil saber cuál es la probabilidad asociada a cada resultado. Para ello, debes calcular su distribución de probabilidad. Entonces, \n",
        "\n",
        "Obtener la distribución de la variable aleatoria *suma del resultado de tirar dos dados*. Para ello puedes intentar alguna o ambas de las siguientes opciones:\n",
        "1. **Obtener la distribución teórica:** para ello, basta contar los casos *a mano* con lápiz y papel. Por ejemplo:\n",
        "    1. Uno (1) es un resultado imposible\n",
        "    2. Dos (2) solamente puede ser obtenida con ambos dados en 1, 1 + 1\n",
        "    3. Tres (3) tiene dos opciones, 2 + 1 y 1 + 2\n",
        "    4. Cuatro (4) tiene tres opciones: 3 + 1, 2 + 2, 1 + 3\n",
        "    \n",
        "    y así para el resto de los posibles resultados. Completa la lista hasta el 12 y cuenta cuántas combinaciones existen para cada resultado. ¿Cuántos combinaciones debe haber en total, teniendo en cuenta que cada dado tiene seis caras? Al final, debes llevarlos a porcentaje. Por ejemplo, si en total son 100 posibles combinaciones, y el 12 tiene 10 posibles combinaciones, su probabilidad es 10/100 = 0.1\n",
        "    \n",
        "2. **Simular y obtener una distribución aproximada:** otra opción es simular esta situación. Viste en el notebook de la bitácora anterior cómo simular un dado. Ahora simula dos dados y obtiene la suma de sus resultados.\n",
        "\n",
        "¿Te animas a comparar ambos métodos?"
      ]
    },
    {
      "cell_type": "code",
      "metadata": {
        "id": "cXU9BJkD60yt",
        "outputId": "29793ef4-6ee9-433f-f840-b32239e6e8d0"
      },
      "source": [
        "muestras_dado_1 = np.random.randint(1,7, size = 1000000)\n",
        "muestras_dado_2 = np.random.randint(1,7, size = 1000000)\n",
        "\n",
        "suma = muestras_dado_1 + muestras_dado_2\n",
        "\n",
        "resultados = np.arange(2,13)\n",
        "valores_teoricos = np.array([1,2,3,4,5,6,5,4,3,2,1])/36\n",
        "\n",
        "plt.hist(suma, bins = np.arange(1.5,13.5,1), density=True, rwidth = 0.8, alpha = 0.75)\n",
        "plt.scatter(resultados, valores_teoricos, marker = '+', c = 'red', label = 'valores teoricos')\n",
        "plt.legend()\n",
        "plt.show()"
      ],
      "execution_count": null,
      "outputs": [
        {
          "output_type": "display_data",
          "data": {
            "image/png": "[encoded data removed]",
            "text/plain": [
              "<Figure size 432x288 with 1 Axes>"
            ]
          },
          "metadata": {
            "tags": [],
            "needs_background": "light"
          }
        }
      ]
    },
    {
      "cell_type": "markdown",
      "metadata": {
        "id": "9LWOvw5C60yu"
      },
      "source": [
        "**Ejercicio 2:** Obtiene, simulando, la distribución de la variable aleatoria *máximo valor obtenido al tirar dos dados.* Por ejemplo, si obtenemos 2 y 5, el resultado es 5. Nuevamente, si lo deseas, también puedes contar casos y obtener la distribución teórica."
      ]
    },
    {
      "cell_type": "code",
      "metadata": {
        "id": "dEKLqbQg60yv",
        "outputId": "07dbc6cc-a2f1-4658-cd0b-6b903657ae84"
      },
      "source": [
        "muestras_dado_1 = np.random.randint(1,7, size = 100000)\n",
        "muestras_dado_2 = np.random.randint(1,7, size = 100000)\n",
        "\n",
        "muestras = np.array([muestras_dado_1, muestras_dado_2])\n",
        "print(muestras.shape)\n",
        "\n",
        "maximos = np.max(muestras, axis = 0)\n",
        "\n",
        "resultados = np.arange(1,7)\n",
        "valores_teoricos = np.array([1,3,5,7,9,11])/36\n",
        "\n",
        "plt.hist(maximos, bins = np.arange(0.5,7.5,1), density=True, rwidth = 0.8, alpha = 0.75)\n",
        "plt.scatter(resultados, valores_teoricos, marker = '+', c = 'red', label = 'valores teoricos')\n",
        "plt.show()"
      ],
      "execution_count": null,
      "outputs": [
        {
          "output_type": "stream",
          "text": [
            "(2, 100000)\n"
          ],
          "name": "stdout"
        },
        {
          "output_type": "display_data",
          "data": {
            "image/png": "[encoded data removed]",
            "text/plain": [
              "<Figure size 432x288 with 1 Axes>"
            ]
          },
          "metadata": {
            "tags": [],
            "needs_background": "light"
          }
        }
      ]
    },
    {
      "cell_type": "markdown",
      "metadata": {
        "id": "83LdRT8160yv"
      },
      "source": [
        "## 2. Correlación\n",
        "\n",
        "El objetivo de esta sección es que te familiarices con los conceptos de **Covarianza** y **Correlación**. Si bien las fórmulas parecen difíciles, esperemos que veas que nada es tan grave como parece. También que prestes atención a cómo a veces es útil simular datos para aprender o acercarse a algunas técnicas.\n",
        "\n",
        "Tenemos dos variables aleatorias $X$ e $Y$, de las cuales tenemos $n$ muestras de cada una, $x_1,x_2,..., x_n$ e $y_1,y_2,..., y_n$. Sus valores medios son $\\bar{x}$ e $\\bar{y}$, respectivamente. Definimos la Covarianza como\n",
        "\n",
        "$$Cov(X,Y) = \\sum_{i=1}^{n} \\frac{(x_i - \\bar{x})(y_i - \\bar{y})}{n}$$\n",
        "\n",
        "A veces verás que, en lugar de dividir por $n$, se divide por $n - 1$ ó $n - 2$, pero eso no es importante ahora. Según Wikipedia, \"la covarianza es un valor que indica el grado de variación conjunta de dos variables aleatorias respecto a sus medias. Es el dato básico para determinar si existe una dependencia entre ambas variables y además es el dato necesario para estimar otros parámetros básicos, como el coeficiente de correlación lineal o la recta de regresión.\". \n",
        "\n",
        "Si bien la fórmula puede parecer difícil, veamos qué nos dice de nuestros datos simulando algunos casos sencillos.\n",
        "\n",
        "Empezamos generandos muestras al azar de dos variables aleatorias no relacionadas entre sí. "
      ]
    },
    {
      "cell_type": "code",
      "metadata": {
        "id": "YbvlJ3P160yw"
      },
      "source": [
        "import matplotlib.pyplot as plt\n",
        "import numpy as np"
      ],
      "execution_count": null,
      "outputs": []
    },
    {
      "cell_type": "code",
      "metadata": {
        "id": "P5oq_Lvc60yw",
        "colab": {
          "base_uri": "https://localhost:8080/",
          "height": 269
        },
        "outputId": "664dc3d9-1ccc-48f9-9375-062e5b9f0639"
      },
      "source": [
        "n = 1000\n",
        "sigma_1 = 2\n",
        "sigma_2 = 20\n",
        "x = np.random.normal(size = n, scale = sigma_1)\n",
        "y = np.random.normal(size = n, scale = sigma_2)\n",
        "\n",
        "# Graficamos\n",
        "plt.scatter(x, y)\n",
        "plt.grid()\n",
        "plt.xlim([-10,10])\n",
        "plt.ylim([-10,10])\n",
        "plt.show()"
      ],
      "execution_count": null,
      "outputs": [
        {
          "output_type": "display_data",
          "data": {
            "image/png": "[encoded data removed]",
            "text/plain": [
              "<Figure size 432x288 with 1 Axes>"
            ]
          },
          "metadata": {
            "tags": [],
            "needs_background": "light"
          }
        }
      ]
    },
    {
      "cell_type": "markdown",
      "metadata": {
        "id": "caF4IF4A60yx"
      },
      "source": [
        "¿Hay alguna relación entre ellos? Por relación nos referimos a \"variación conjunta\". Y por \"variación conjunta\" podemos imaginarnos que si una de las variables aumenta, la otra también lo hace. Y si una variable disminuye su valor, la otra también lo hace. La covarianza intenta cuantificar esa relación."
      ]
    },
    {
      "cell_type": "code",
      "metadata": {
        "id": "cUosMnMT60yx",
        "colab": {
          "base_uri": "https://localhost:8080/"
        },
        "outputId": "a0b83cc4-2fbc-4124-f832-a426acc97ff0"
      },
      "source": [
        "cov = np.sum((x - x.mean())*(y - y.mean()))/x.size\n",
        "print(cov)"
      ],
      "execution_count": null,
      "outputs": [
        {
          "output_type": "stream",
          "text": [
            "-0.054543347210518504\n"
          ],
          "name": "stdout"
        }
      ]
    },
    {
      "cell_type": "markdown",
      "metadata": {
        "id": "rOKlpulj60yx"
      },
      "source": [
        "La covarianza, sin embargo, tiene un pequeño problema: depende de la escala de nuestros datos. Entonces, para deshacernos de la escala, se puede definir la Correlación, que no es otra cosa que la covarianza dividida la desviación estándar de cada variable aletaria.\n",
        "\n",
        "$$Corr(X,Y) = \\frac{Cov(X,Y)}{\\sigma_X \\sigma_Y}$$"
      ]
    },
    {
      "cell_type": "code",
      "metadata": {
        "id": "KlV7rTB860yx",
        "outputId": "6d54717c-57a0-4cc7-adc3-f37aab38c4d5"
      },
      "source": [
        "corr = cov/(x.std()*y.std())\n",
        "print(corr)"
      ],
      "execution_count": null,
      "outputs": [
        {
          "output_type": "stream",
          "text": [
            "0.002874476488345674\n"
          ],
          "name": "stdout"
        }
      ]
    },
    {
      "cell_type": "markdown",
      "metadata": {
        "id": "CHSAqhNM60yy"
      },
      "source": [
        "Y con eso nos deshacemos de la escala. Un valor cercano a cero nos indica que no existe una relación (¿lineal?) entre las variables.\n",
        "\n",
        "**Probar** con distintas escalas (modificando `sigma_1` y `sigma_2`) y verán que `cov` tomará valores en un rango muy amplio, mientras que `corr` se mantendrá cercana a cero.\n",
        "\n",
        "### 2.1 Relación lineal\n",
        "\n",
        "Veamos otro ejemplo: sabemos que existe una relación lineal entre $X$ e $Y$, es decir, podemos aproximar $Y =aX+b$, donde $a$ y $b$ son la pendiente y la ordenada al origen."
      ]
    },
    {
      "cell_type": "code",
      "metadata": {
        "id": "iDRrOg5C60yy",
        "colab": {
          "base_uri": "https://localhost:8080/",
          "height": 265
        },
        "outputId": "74fa1827-da49-4124-8640-67d7c0d564c2"
      },
      "source": [
        "n = 100\n",
        "x = np.linspace(-1,1,n) + 0.25*np.random.normal(size = n)\n",
        "y = 4.5*x + 0.25*np.random.normal(size = n)\n",
        "\n",
        "# Graficamos\n",
        "plt.scatter(x, y)\n",
        "plt.grid()\n",
        "plt.show()"
      ],
      "execution_count": null,
      "outputs": [
        {
          "output_type": "display_data",
          "data": {
            "image/png": "[encoded data removed]",
            "text/plain": [
              "<Figure size 432x288 with 1 Axes>"
            ]
          },
          "metadata": {
            "tags": [],
            "needs_background": "light"
          }
        }
      ]
    },
    {
      "cell_type": "markdown",
      "metadata": {
        "id": "cbdacTdx60yy"
      },
      "source": [
        "La covarianza nos da"
      ]
    },
    {
      "cell_type": "code",
      "metadata": {
        "id": "gwkb7A6W60yy",
        "colab": {
          "base_uri": "https://localhost:8080/"
        },
        "outputId": "0ff3e5a4-5af1-4297-d062-548d0ea842e3"
      },
      "source": [
        "cov = np.sum((x - x.mean())*(y - y.mean()))/x.size\n",
        "print(cov)"
      ],
      "execution_count": null,
      "outputs": [
        {
          "output_type": "stream",
          "text": [
            "1.7859216984704218\n"
          ],
          "name": "stdout"
        }
      ]
    },
    {
      "cell_type": "code",
      "metadata": {
        "id": "webZlH8w60yz",
        "colab": {
          "base_uri": "https://localhost:8080/"
        },
        "outputId": "7e88243b-79a4-46bd-f65c-8088d0b3fd97"
      },
      "source": [
        "corr = cov/(x.std()*y.std())\n",
        "corr"
      ],
      "execution_count": null,
      "outputs": [
        {
          "output_type": "execute_result",
          "data": {
            "text/plain": [
              "0.9967777294464599"
            ]
          },
          "metadata": {
            "tags": []
          },
          "execution_count": 7
        }
      ]
    },
    {
      "cell_type": "markdown",
      "metadata": {
        "id": "Cmtz-SIx60yz"
      },
      "source": [
        "Ahora, en cambio, el valor es cercano a uno, indicando una relación lineal creciente entre ambas variables.\n",
        "\n",
        "**Probar** cambiando la pendiente de la función lineal (el número que multiplica a `x` en `y = ...`) y mirar qué pasa. ¿Qué pasa si la pendiente es negativa?"
      ]
    },
    {
      "cell_type": "markdown",
      "metadata": {
        "id": "pqVLXBBq60yz"
      },
      "source": [
        "#### Conclusiones\n",
        "\n",
        "1. La covarianza es una medida de la variación conjunta de dos variables. Pero tiene un problema: depende de la escala.\n",
        "2. Para \"deshacernos\" de la escala, definimos la correlación, que es simplemente la covarianza dividida por el producto de la desviación estándar de cada variable. **Para pensar:** ¿por qué la desviación estándar está asociada a la escala de una variable?\n",
        "3. La correlación es un valor entre -1 y 1. La correlación toma un valor cercano a uno cuando hay una relación lineal creciente entre las variables, cero cuando no hay relación y -1 cuando hay una relación lineal decreciente.\n",
        "4. Esta correlación tiene un nombre particular: **Correlación de Pearson**."
      ]
    },
    {
      "cell_type": "markdown",
      "metadata": {
        "id": "V6fCrqD_60yz"
      },
      "source": [
        "### 2.2 Covarianza y Correlación con NumPy\n",
        "\n",
        "**Esta sección es opcional**\n",
        "\n",
        "NumPy ya tiene incorporadas funciones que calculan la covarianza y la correlación entre dos variables. La única diferencia es que, en lugar de devolver un único valor, devuelve cuatro valores, que corresponden a la covarianza/correlación entre $X$ con $X$, $X$ con $Y$, $Y$ con $X$, e $Y$ con $Y$. ¿Por qué, en la correlación, algunos valores son exactamente uno (1.)?"
      ]
    },
    {
      "cell_type": "code",
      "metadata": {
        "id": "rnuCdenI60y0",
        "colab": {
          "base_uri": "https://localhost:8080/"
        },
        "outputId": "33570137-dcb8-44e1-e88b-bb32a56498d5"
      },
      "source": [
        "np.cov([x,y])"
      ],
      "execution_count": null,
      "outputs": [
        {
          "output_type": "execute_result",
          "data": {
            "text/plain": [
              "array([[0.40389464, 1.80396131],\n",
              "       [1.80396131, 8.1094182 ]])"
            ]
          },
          "metadata": {
            "tags": []
          },
          "execution_count": 8
        }
      ]
    },
    {
      "cell_type": "code",
      "metadata": {
        "id": "d3DjPLlO60y0",
        "colab": {
          "base_uri": "https://localhost:8080/"
        },
        "outputId": "c07efdcf-b705-4a92-a732-2b0d654e0836"
      },
      "source": [
        "np.corrcoef([x,y])"
      ],
      "execution_count": null,
      "outputs": [
        {
          "output_type": "execute_result",
          "data": {
            "text/plain": [
              "array([[1.        , 0.99677773],\n",
              "       [0.99677773, 1.        ]])"
            ]
          },
          "metadata": {
            "tags": []
          },
          "execution_count": 9
        }
      ]
    },
    {
      "cell_type": "markdown",
      "metadata": {
        "id": "FpdjydX460y0"
      },
      "source": [
        "### 2.3 Relación No-Lineal entre variables\n",
        "\n",
        "**Esta sección es opcional, pero recomendamos leerla**\n",
        "\n",
        "¿Qué ocurre cuando la relación no es lineal entre las variables? Veámoslo con un ejemplo.\n"
      ]
    },
    {
      "cell_type": "code",
      "metadata": {
        "id": "ueoVIn_b60y0",
        "colab": {
          "base_uri": "https://localhost:8080/",
          "height": 265
        },
        "outputId": "9bb5cf97-0cf8-4cd6-f5dc-b4983de030c5"
      },
      "source": [
        "n = 1000\n",
        "x = np.linspace(-5,5,n) + 0.25*np.random.normal(size = n)\n",
        "y = x**2 + 0.25*np.random.normal(size = n)\n",
        "\n",
        "# Graficamos\n",
        "plt.scatter(x, y)\n",
        "plt.grid()\n",
        "plt.show()"
      ],
      "execution_count": null,
      "outputs": [
        {
          "output_type": "display_data",
          "data": {
            "image/png": "[encoded data removed]",
            "text/plain": [
              "<Figure size 432x288 with 1 Axes>"
            ]
          },
          "metadata": {
            "tags": [],
            "needs_background": "light"
          }
        }
      ]
    },
    {
      "cell_type": "markdown",
      "metadata": {
        "id": "ibhbTCZ660y1"
      },
      "source": [
        "La covarianza nos da"
      ]
    },
    {
      "cell_type": "code",
      "metadata": {
        "id": "nztNsjSZ60y1",
        "colab": {
          "base_uri": "https://localhost:8080/"
        },
        "outputId": "3263001e-2409-4c66-d991-430b871afb5a"
      },
      "source": [
        "cov = np.sum((x - x.mean())*(y - y.mean()))/x.size\n",
        "print(cov)"
      ],
      "execution_count": null,
      "outputs": [
        {
          "output_type": "stream",
          "text": [
            "0.11546374243256377\n"
          ],
          "name": "stdout"
        }
      ]
    },
    {
      "cell_type": "code",
      "metadata": {
        "id": "q8qFNHxa60y1",
        "colab": {
          "base_uri": "https://localhost:8080/"
        },
        "outputId": "215336a5-dc7b-445c-a04f-cea3a508cf1a"
      },
      "source": [
        "corr = cov/(x.std()*y.std())\n",
        "corr"
      ],
      "execution_count": null,
      "outputs": [
        {
          "output_type": "execute_result",
          "data": {
            "text/plain": [
              "0.005184626868046825"
            ]
          },
          "metadata": {
            "tags": []
          },
          "execution_count": 12
        }
      ]
    },
    {
      "cell_type": "markdown",
      "metadata": {
        "id": "UOfdKnWB60y1"
      },
      "source": [
        "Notar que la correlación de un valor alrededor de cero, indicando que no hay una correlación entre ambas variables. Pero esto NO indica que no hay una *relación* entre esas variables, solamente nos dice que no es lineal. Por eso es muy importante graficar.\n",
        "\n",
        "**Probar** cambiando la relación matemática entre `x` e `y` y mirar qué pasa.\n",
        "\n",
        "Para tratar con relaciones no lineal entre variables, existen otros tipos de correlaciones. La que vimos se llama **Correlación de Pearson**, que es la más famosa. Pero también existen otras, Spearman y Kendall, que son muy útiles cuando existe una relación no lineal entre variables.\n",
        "\n",
        "### 3. Correlación en Pandas\n",
        "\n",
        "Probablemente ya estés un poco mareado/a con tantos términos, conceptos y líneas de código. Si no entendiste del todo lo anterior, no te preocupes. Vamos a ver cómo lo aplicamos en un conjunto de datos. ¡Verás que es muy sencillo!\n",
        "\n",
        "Para eso, volvemos a usar el Iris Dataset del encuentro anterior."
      ]
    },
    {
      "cell_type": "code",
      "metadata": {
        "id": "BRCeM3Cg60y2"
      },
      "source": [
        "import pandas as pd"
      ],
      "execution_count": null,
      "outputs": []
    },
    {
      "cell_type": "code",
      "metadata": {
        "id": "1VaFZRcr60y2",
        "colab": {
          "base_uri": "https://localhost:8080/",
          "height": 202
        },
        "outputId": "d48bbac8-da17-4927-df84-87ddcffbef6c"
      },
      "source": [
        "data = pd.read_csv('ds_04_Iris.csv')\n",
        "data.drop(columns = 'Id', inplace = True)\n",
        "data.head()"
      ],
      "execution_count": null,
      "outputs": [
        {
          "output_type": "execute_result",
          "data": {
            "text/html": [
              "<div>\n",
              "<style scoped>\n",
              "    .dataframe tbody tr th:only-of-type {\n",
              "        vertical-align: middle;\n",
              "    }\n",
              "\n",
              "    .dataframe tbody tr th {\n",
              "        vertical-align: top;\n",
              "    }\n",
              "\n",
              "    .dataframe thead th {\n",
              "        text-align: right;\n",
              "    }\n",
              "</style>\n",
              "<table border=\"1\" class=\"dataframe\">\n",
              "  <thead>\n",
              "    <tr style=\"text-align: right;\">\n",
              "      <th></th>\n",
              "      <th>SepalLengthCm</th>\n",
              "      <th>SepalWidthCm</th>\n",
              "      <th>PetalLengthCm</th>\n",
              "      <th>PetalWidthCm</th>\n",
              "      <th>Species</th>\n",
              "    </tr>\n",
              "  </thead>\n",
              "  <tbody>\n",
              "    <tr>\n",
              "      <th>0</th>\n",
              "      <td>5.1</td>\n",
              "      <td>3.5</td>\n",
              "      <td>1.4</td>\n",
              "      <td>0.2</td>\n",
              "      <td>Iris-setosa</td>\n",
              "    </tr>\n",
              "    <tr>\n",
              "      <th>1</th>\n",
              "      <td>4.9</td>\n",
              "      <td>3.0</td>\n",
              "      <td>1.4</td>\n",
              "      <td>0.2</td>\n",
              "      <td>Iris-setosa</td>\n",
              "    </tr>\n",
              "    <tr>\n",
              "      <th>2</th>\n",
              "      <td>4.7</td>\n",
              "      <td>3.2</td>\n",
              "      <td>1.3</td>\n",
              "      <td>0.2</td>\n",
              "      <td>Iris-setosa</td>\n",
              "    </tr>\n",
              "    <tr>\n",
              "      <th>3</th>\n",
              "      <td>4.6</td>\n",
              "      <td>3.1</td>\n",
              "      <td>1.5</td>\n",
              "      <td>0.2</td>\n",
              "      <td>Iris-setosa</td>\n",
              "    </tr>\n",
              "    <tr>\n",
              "      <th>4</th>\n",
              "      <td>5.0</td>\n",
              "      <td>3.6</td>\n",
              "      <td>1.4</td>\n",
              "      <td>0.2</td>\n",
              "      <td>Iris-setosa</td>\n",
              "    </tr>\n",
              "  </tbody>\n",
              "</table>\n",
              "</div>"
            ],
            "text/plain": [
              "   SepalLengthCm  SepalWidthCm  PetalLengthCm  PetalWidthCm      Species\n",
              "0            5.1           3.5            1.4           0.2  Iris-setosa\n",
              "1            4.9           3.0            1.4           0.2  Iris-setosa\n",
              "2            4.7           3.2            1.3           0.2  Iris-setosa\n",
              "3            4.6           3.1            1.5           0.2  Iris-setosa\n",
              "4            5.0           3.6            1.4           0.2  Iris-setosa"
            ]
          },
          "metadata": {
            "tags": []
          },
          "execution_count": 16
        }
      ]
    },
    {
      "cell_type": "markdown",
      "metadata": {
        "id": "Y8Mh1jb460y2"
      },
      "source": [
        "Para obtener las correlaciones entre las distintas variables, simplemente tenemos que hacer:"
      ]
    },
    {
      "cell_type": "code",
      "metadata": {
        "id": "D9in0eEm60y2",
        "colab": {
          "base_uri": "https://localhost:8080/",
          "height": 171
        },
        "outputId": "e32ead61-2c5f-47fc-9bc5-7adde5540211"
      },
      "source": [
        "data.corr()"
      ],
      "execution_count": null,
      "outputs": [
        {
          "output_type": "execute_result",
          "data": {
            "text/html": [
              "<div>\n",
              "<style scoped>\n",
              "    .dataframe tbody tr th:only-of-type {\n",
              "        vertical-align: middle;\n",
              "    }\n",
              "\n",
              "    .dataframe tbody tr th {\n",
              "        vertical-align: top;\n",
              "    }\n",
              "\n",
              "    .dataframe thead th {\n",
              "        text-align: right;\n",
              "    }\n",
              "</style>\n",
              "<table border=\"1\" class=\"dataframe\">\n",
              "  <thead>\n",
              "    <tr style=\"text-align: right;\">\n",
              "      <th></th>\n",
              "      <th>SepalLengthCm</th>\n",
              "      <th>SepalWidthCm</th>\n",
              "      <th>PetalLengthCm</th>\n",
              "      <th>PetalWidthCm</th>\n",
              "    </tr>\n",
              "  </thead>\n",
              "  <tbody>\n",
              "    <tr>\n",
              "      <th>SepalLengthCm</th>\n",
              "      <td>1.000000</td>\n",
              "      <td>-0.109369</td>\n",
              "      <td>0.871754</td>\n",
              "      <td>0.817954</td>\n",
              "    </tr>\n",
              "    <tr>\n",
              "      <th>SepalWidthCm</th>\n",
              "      <td>-0.109369</td>\n",
              "      <td>1.000000</td>\n",
              "      <td>-0.420516</td>\n",
              "      <td>-0.356544</td>\n",
              "    </tr>\n",
              "    <tr>\n",
              "      <th>PetalLengthCm</th>\n",
              "      <td>0.871754</td>\n",
              "      <td>-0.420516</td>\n",
              "      <td>1.000000</td>\n",
              "      <td>0.962757</td>\n",
              "    </tr>\n",
              "    <tr>\n",
              "      <th>PetalWidthCm</th>\n",
              "      <td>0.817954</td>\n",
              "      <td>-0.356544</td>\n",
              "      <td>0.962757</td>\n",
              "      <td>1.000000</td>\n",
              "    </tr>\n",
              "  </tbody>\n",
              "</table>\n",
              "</div>"
            ],
            "text/plain": [
              "               SepalLengthCm  SepalWidthCm  PetalLengthCm  PetalWidthCm\n",
              "SepalLengthCm       1.000000     -0.109369       0.871754      0.817954\n",
              "SepalWidthCm       -0.109369      1.000000      -0.420516     -0.356544\n",
              "PetalLengthCm       0.871754     -0.420516       1.000000      0.962757\n",
              "PetalWidthCm        0.817954     -0.356544       0.962757      1.000000"
            ]
          },
          "metadata": {
            "tags": []
          },
          "execution_count": 17
        }
      ]
    },
    {
      "cell_type": "markdown",
      "metadata": {
        "id": "uKhJmT8660y3"
      },
      "source": [
        "**Para responder**: ¿Cuáles variables están correlacionadas entre sí?¿Por qué los elementos de la diagonal son exactamente uno (1.0)?\n",
        "\n",
        "Dentro de dos encuentros veremos una forma más eficiente de visualizar esta información, ¡pero ya puedes aplicarla!"
      ]
    }
  ]
}